{
 "cells": [
  {
   "cell_type": "markdown",
   "id": "b894b807-0d9d-4046-b6fb-6a14d273ad01",
   "metadata": {},
   "source": [
    "# Batch Daily Inference Pipeline\n",
    "* Retrieve best model from Hopsworks\n",
    "* Scrape weather forecasts for next 14 days\n",
    "* Predict weather code and store predictions in Hopsworks"
   ]
  },
  {
   "cell_type": "code",
   "execution_count": null,
   "id": "1d33e201-0014-4701-82c8-0e68f18ffb92",
   "metadata": {},
   "outputs": [],
   "source": [
    "import hopsworks\n",
    "import joblib\n",
    "import numpy as np\n",
    "import pandas as pd\n",
    "from datetime import datetime\n",
    "from weather_utils import *\n",
    "\n",
    "import sys\n",
    "sys.path.append('..')  # Add the parent directory (project root) to the Python path\n",
    "from config import *\n",
    "\n",
    "# Disable annoying warnings\n",
    "import warnings\n",
    "warnings.filterwarnings(\"ignore\")"
   ]
  },
  {
   "cell_type": "markdown",
   "id": "ecf7f66f-e51f-400b-bc69-77567cc18626",
   "metadata": {},
   "source": [
    "# 1) Retrieve best model from Hopsworks"
   ]
  },
  {
   "cell_type": "code",
   "execution_count": null,
   "id": "80d9b135-fe95-4e77-a61f-c10880b2709f",
   "metadata": {},
   "outputs": [],
   "source": [
    "# Connect to Hopsworks\n",
    "project = hopsworks.login()\n",
    "\n",
    "# Retrieve Feature Store\n",
    "fs = project.get_feature_store()\n",
    "\n",
    "# Get Model Registry\n",
    "mr = project.get_model_registry()\n",
    "\n",
    "# Select best model based on evaluation metric\n",
    "weather_code_model = mr.get_best_model(MODEL_NAME,\n",
    "                          MODEL_METRIC,\n",
    "                          OPTIMIZE_DIRECTION)\n",
    "\n",
    "# Download model path\n",
    "model_dir = weather_code_model.download()\n",
    "\n",
    "# Download model\n",
    "model = joblib.load(model_dir + '/'+ MODEL_NAME + '.pkl')\n",
    "\n",
    "print(\"Model:\", model_dir)"
   ]
  },
  {
   "cell_type": "markdown",
   "id": "01121683-db52-4a48-99c8-6c45b3d59cfb",
   "metadata": {},
   "source": [
    "# 2) Scrape weather forecasts for next 14 days"
   ]
  },
  {
   "cell_type": "code",
   "execution_count": null,
   "id": "de6dc55e-0dcc-410a-a1a8-4ff11bc8a264",
   "metadata": {},
   "outputs": [],
   "source": [
    "# Define query parameters\n",
    "params = {\n",
    "    \"latitude\": LATITUDE,\n",
    "    \"longitude\": LONGITUDE,\n",
    "    \"daily\": [\"temperature_2m_min\", \"precipitation_sum\", \"wind_gusts_10m_max\"],\n",
    "    \"timezone\": TIMEZONE,\n",
    "    \"past_days\": 0,\n",
    "    \"forecast_days\": 15\n",
    "}\n",
    "\n",
    "# Setup connection with Open-Meteo\n",
    "openmeteo = get_openmeteo_connection()\n",
    "\n",
    "# Execute the query\n",
    "responses = openmeteo.weather_api(BASELINE_URL_OPEN_METEO, params=params)\n",
    "\n",
    "# Extract the location because the response can be done for multiple cities as well\n",
    "response = responses[0]\n",
    "\n",
    "# Process yesterday's data into a Pandas dataframe\n",
    "df_forecasts = process_forecast_request(response)\n",
    "\n",
    "# Add today's date\n",
    "df_forecasts['prediction_date'] = pd.to_datetime(datetime.today().date()).date()\n",
    "\n",
    "# Add a new column with the month as an integer\n",
    "df_forecasts['month'] = pd.to_datetime(df_forecasts['forecast_date']).dt.month\n",
    "\n",
    "display(df_forecasts)"
   ]
  },
  {
   "cell_type": "markdown",
   "id": "b59efcfc-5039-4136-a17a-50175e066309",
   "metadata": {},
   "source": [
    "# 3) Predict Weather Code"
   ]
  },
  {
   "cell_type": "code",
   "execution_count": null,
   "id": "d2745f52-2f94-4254-9b92-689841aa45e8",
   "metadata": {},
   "outputs": [],
   "source": [
    "# Select features for model\n",
    "X = df_forecasts[['temperature_min', 'precipitation_sum', 'wind_gusts_max', 'month']]\n",
    "\n",
    "print(X.columns)\n",
    "display(X)"
   ]
  },
  {
   "cell_type": "code",
   "execution_count": null,
   "id": "2d7904dd-14f1-418c-ade3-4b04085615fc",
   "metadata": {},
   "outputs": [],
   "source": [
    "# Train model on the training set\n",
    "y = model.predict(X)\n",
    "\n",
    "# Round predicted value to closest weather code\n",
    "y = np.round(y).astype(int)\n",
    "\n",
    "df_forecasts['weather_code'] = y"
   ]
  },
  {
   "cell_type": "code",
   "execution_count": null,
   "id": "4008f26d-8bc6-4aac-80f2-da3dc64db472",
   "metadata": {},
   "outputs": [],
   "source": [
    "# Add weather code descriptions\n",
    "df_forecasts = add_weather_code_labels(df_forecasts)\n",
    "\n",
    "display(df_forecasts)"
   ]
  },
  {
   "cell_type": "markdown",
   "id": "66556789-6abc-405f-875f-6ff42eda49a0",
   "metadata": {},
   "source": [
    "# 4) Update forecasts in Hopsworks Feature Group"
   ]
  },
  {
   "cell_type": "code",
   "execution_count": null,
   "id": "ff933d89-4b24-414d-b425-c5b1ef05129f",
   "metadata": {},
   "outputs": [],
   "source": [
    "# Get or create Feature Group\n",
    "forecast_weather_fg = fs.get_or_create_feature_group(\n",
    "    name=FG_FORECAST_NAME,\n",
    "    version=FG_FORECAST_V,\n",
    "    primary_key=FG_FORECAST_PK,\n",
    "    description=FG_FORECAST_DESC,\n",
    "    statistics_config={\"enabled\": True,\n",
    "                       \"histograms\": True,\n",
    "                       \"correlations\": True}\n",
    ")\n",
    "\n",
    "# Upload data\n",
    "forecast_weather_fg.insert(df_forecasts,\n",
    "                           write_options={\"wait_for_job\" : True})"
   ]
  },
  {
   "cell_type": "code",
   "execution_count": null,
   "id": "eae0df7c-ad1e-47f0-9200-7086bfbf5a95",
   "metadata": {},
   "outputs": [],
   "source": [
    "# save forecast locally\n",
    "df_forecasts.to_csv('../resources/forecast.csv')"
   ]
  },
  {
   "cell_type": "code",
   "execution_count": null,
   "id": "ee5389a9-4df0-46bf-950a-1217bfc64132",
   "metadata": {},
   "outputs": [],
   "source": [
    "# upload forecast to Hopsworks cluster for Hugging Face\n",
    "dataset_api = project.get_dataset_api()\n",
    "dataset_api.upload(\"../resources/forecast.csv\",\n",
    "                   \"Resources/weather_forecast\",\n",
    "                   overwrite=True # I do not want to display forecast of past days\n",
    "                  )"
   ]
  }
 ],
 "metadata": {
  "kernelspec": {
   "display_name": "Python 3 (ipykernel)",
   "language": "python",
   "name": "python3"
  },
  "language_info": {
   "codemirror_mode": {
    "name": "ipython",
    "version": 3
   },
   "file_extension": ".py",
   "mimetype": "text/x-python",
   "name": "python",
   "nbconvert_exporter": "python",
   "pygments_lexer": "ipython3",
   "version": "3.10.13"
  }
 },
 "nbformat": 4,
 "nbformat_minor": 5
}
