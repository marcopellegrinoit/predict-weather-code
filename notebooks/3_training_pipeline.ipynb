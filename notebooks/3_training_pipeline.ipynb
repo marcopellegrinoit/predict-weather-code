{
 "cells": [
  {
   "cell_type": "markdown",
   "id": "a87b92ab",
   "metadata": {},
   "source": [
    "# Training Pipeline\n",
    "* Create and return Feature View and its dataset\n",
    "* Define, tune and train the regression model\n",
    "* Evaluate model\n",
    "* Push model to Hopsworks"
   ]
  },
  {
   "cell_type": "code",
   "execution_count": null,
   "id": "9f3c259f",
   "metadata": {},
   "outputs": [],
   "source": [
    "import os\n",
    "import joblib\n",
    "import pandas as pd\n",
    "import hopsworks\n",
    "from xgboost import XGBRegressor\n",
    "from xgboost import plot_importance\n",
    "import pickle\n",
    "from sklearn.model_selection import RandomizedSearchCV\n",
    "from sklearn.metrics import mean_squared_error, r2_score, f1_score, classification_report\n",
    "import seaborn as sns\n",
    "import matplotlib.pyplot as plt\n",
    "from hsml.schema import Schema\n",
    "from hsml.model_schema import ModelSchema\n",
    "import numpy as np\n",
    "\n",
    "import sys\n",
    "sys.path.append('..')  # Add the parent directory (project root) to the Python path\n",
    "from config import *\n",
    "\n",
    "# Disable annoying warnings\n",
    "import warnings\n",
    "warnings.filterwarnings(\"ignore\")\n",
    "\n",
    "# Set path to save model and plots\n",
    "if os.path.isdir(MODEL_PATH) == False:\n",
    "    os.mkdir(MODEL_PATH)"
   ]
  },
  {
   "cell_type": "markdown",
   "id": "4071efea-6939-4d70-9aca-c8441b3c3768",
   "metadata": {},
   "source": [
    "# Create and Return Feature View in Hopsworks"
   ]
  },
  {
   "cell_type": "code",
   "execution_count": null,
   "id": "54a15b0d",
   "metadata": {},
   "outputs": [],
   "source": [
    "# Login to Hopsworks\n",
    "project = hopsworks.login()\n",
    "\n",
    "# Retrieve Feature Store\n",
    "fs = project.get_feature_store()"
   ]
  },
  {
   "cell_type": "code",
   "execution_count": null,
   "id": "8d71a47d-05a3-443f-9690-54744d39028b",
   "metadata": {},
   "outputs": [],
   "source": [
    "# Retrieve Feature Group\n",
    "historical_weather_fg = fs.get_or_create_feature_group(\n",
    "    name=FG_HISTORY_NAME,\n",
    "    version=FG_HISTORY_V,\n",
    ")\n",
    "\n",
    "# Query: transform feature group into feature view. no feature groups to join\n",
    "query = historical_weather_fg.select_all()\n",
    "\n",
    "# Create Feature View in Hopsworks\n",
    "feature_view = fs.create_feature_view(\n",
    "    name=FEATURE_VIEW_NAME,\n",
    "    version=FEATURE_VIEW_V,\n",
    "    query=query,\n",
    "    labels=['weather_code'],\n",
    ")"
   ]
  },
  {
   "cell_type": "markdown",
   "id": "dff826b7-19ef-47ce-abbc-0e25816d4b9c",
   "metadata": {},
   "source": [
    "# Create Training and Test set"
   ]
  },
  {
   "cell_type": "markdown",
   "id": "4ad1a413-4ef9-47e0-8e21-f46772b19345",
   "metadata": {},
   "source": [
    "Create training and test set split"
   ]
  },
  {
   "cell_type": "code",
   "execution_count": null,
   "id": "e9dc4b8e-d0e5-4f33-a95b-8f12be13f24b",
   "metadata": {},
   "outputs": [],
   "source": [
    "X_train, y_train, X_test, y_test = feature_view.train_test_split(test_size=0.2)"
   ]
  },
  {
   "cell_type": "code",
   "execution_count": null,
   "id": "e540f932-c245-4eb3-8fc0-b0df3430e30d",
   "metadata": {},
   "outputs": [],
   "source": [
    "print('Training set contains', X_train.shape[0], 'entries')\n",
    "print('Training set contains', X_test.shape[0], 'entries')"
   ]
  },
  {
   "cell_type": "markdown",
   "id": "b761b9ed-e272-41ae-9ea0-9d6635f6e82a",
   "metadata": {},
   "source": [
    "# Model hyperameter tuning"
   ]
  },
  {
   "cell_type": "code",
   "execution_count": null,
   "id": "e1f804e6-e337-49cd-95d9-e24c8d06f231",
   "metadata": {},
   "outputs": [],
   "source": [
    "# Create model\n",
    "xgb_model_tuning = XGBRegressor(objective='reg:squarederror') # Square error is the most common loss function for regression prediction problems\n",
    "\n",
    "# Define the hyperparameter distributions for the random search\n",
    "param_dist = {\n",
    "    'learning_rate': LEARNING_RATE_RANGE,\n",
    "    'n_estimators': N_ESTIMATORS_RANGE,\n",
    "    'max_depth': MAX_DEPTH_RANGE,\n",
    "    'subsample': SUBSAMPLE_RANGE,\n",
    "    'colsample_bytree': COLSAMPLE_BYTREE_RANGE,\n",
    "}\n",
    "\n",
    "# Perform the tuning with random search and cross-validation\n",
    "random_search = RandomizedSearchCV(estimator=xgb_model_tuning,\n",
    "                                   param_distributions=param_dist,\n",
    "                                   n_iter=10,\n",
    "                                   scoring='neg_mean_squared_error',\n",
    "                                   cv=N_FOLD_CV,\n",
    "                                   random_state=42)\n",
    "\n",
    "# fit data\n",
    "random_search.fit(X_train, y_train)\n",
    "\n",
    "# Get best parameters\n",
    "best_params = random_search.best_params_\n",
    "print(\"Best Hyperparameters:\", best_params)"
   ]
  },
  {
   "cell_type": "markdown",
   "id": "be82f5ef-16eb-4759-9554-87704b180418",
   "metadata": {},
   "source": [
    "# Model Training"
   ]
  },
  {
   "cell_type": "markdown",
   "id": "f63dd9a3-2f38-4b32-9a23-1145f0fa733f",
   "metadata": {},
   "source": [
    "Train tuned model on the training set"
   ]
  },
  {
   "cell_type": "code",
   "execution_count": null,
   "id": "e5d253c3-0cb1-40eb-baed-38270de23994",
   "metadata": {},
   "outputs": [],
   "source": [
    "# Set tuned parameters\n",
    "xgb_model = XGBRegressor(objective='reg:squarederror', **best_params)\n",
    "\n",
    "# Train the model\n",
    "xgb_model.fit(X_train, y_train)"
   ]
  },
  {
   "cell_type": "code",
   "execution_count": null,
   "id": "3d8b7013-1c64-44c5-9519-c60a7b5fbc29",
   "metadata": {},
   "outputs": [],
   "source": [
    "xgb_model.fit(X_train, y_train)"
   ]
  },
  {
   "cell_type": "markdown",
   "id": "82c9497a-640b-425c-b774-26e3803b99a2",
   "metadata": {},
   "source": [
    "# Model evaluation"
   ]
  },
  {
   "cell_type": "markdown",
   "id": "22d66d73-d260-4c76-a58b-6d1586eea80c",
   "metadata": {},
   "source": [
    "Predict on the unseen test set"
   ]
  },
  {
   "cell_type": "code",
   "execution_count": null,
   "id": "59b8952b-2992-4e08-94a7-2635c6da827a",
   "metadata": {},
   "outputs": [],
   "source": [
    "y_pred = xgb_model.predict(X_test)"
   ]
  },
  {
   "cell_type": "markdown",
   "id": "62f499e9-ea23-44cb-93c1-b12a217cfc3e",
   "metadata": {},
   "source": [
    "Compute evaluation metrics"
   ]
  },
  {
   "cell_type": "code",
   "execution_count": null,
   "id": "ff524e88-1116-4ddf-8b77-b11bb2a45e64",
   "metadata": {},
   "outputs": [],
   "source": [
    "r2 = r2_score(y_test, y_pred)\n",
    "mse = mean_squared_error(y_test, y_pred, squared=False)\n",
    "rmse = mean_squared_error(y_test, y_pred, squared=True)\n",
    "\n",
    "# Round predicted value to closest weather code as a classification\n",
    "y_pred_classified = np.round(y_pred).astype(int)\n",
    "\n",
    "# Weighted-averaged F1 score\n",
    "f1 = f1_score(y_test, y_pred_classified, average='weighted')"
   ]
  },
  {
   "cell_type": "code",
   "execution_count": null,
   "id": "f1bfa7f2-473a-424e-8be2-c576df4d7c68",
   "metadata": {},
   "outputs": [],
   "source": [
    "print(\"R2: {:.2f}\".format(r2))\n",
    "print(\"MSE: {:.2f}\".format(mse))\n",
    "print(\"RMSE: {:.2f}\".format(rmse))\n",
    "print(\"F1 score: {:.2f}\".format(f1))"
   ]
  },
  {
   "cell_type": "markdown",
   "id": "db38b9fd-ed8e-47f7-a657-beacea81159f",
   "metadata": {},
   "source": [
    "#### F1 Score in-depth analysis"
   ]
  },
  {
   "cell_type": "code",
   "execution_count": null,
   "id": "e7209ef8-187a-4f5b-8951-3c9616fb21dd",
   "metadata": {},
   "outputs": [],
   "source": [
    "# Plot F1 report\n",
    "report = classification_report(y_test, y_pred_classified, output_dict=True)\n",
    "\n",
    "# Extract the relevant metrics for each class\n",
    "classes = [int(c) for c in report.keys() if c.isdigit()]  # Extract numeric classes\n",
    "tp = [report[str(c)]['precision'] * report[str(c)]['support'] for c in classes]\n",
    "fp = [(1 - report[str(c)]['precision']) * report[str(c)]['support'] for c in classes]\n",
    "tn = [report[str(c)]['recall'] * report[str(c)]['support'] for c in classes]\n",
    "fn = [(1 - report[str(c)]['recall']) * report[str(c)]['support'] for c in classes]\n",
    "\n",
    "# Create a stacked bar plot\n",
    "fig, ax = plt.subplots()\n",
    "ax.bar(classes, tp, label='True Positives', color='green')\n",
    "ax.bar(classes, fp, bottom=tp, label='False Positives', color='red')\n",
    "ax.bar(classes, tn, bottom=np.array(tp) + np.array(fp), label='True Negatives', color='blue')\n",
    "ax.bar(classes, fn, bottom=np.array(tp) + np.array(fp) + np.array(tn), label='False Negatives', color='orange')\n",
    "\n",
    "# Add labels and title\n",
    "plt.xlabel('Weather Code')\n",
    "plt.ylabel('Count')\n",
    "plt.title('F1 Metrics for Each Weather Code')\n",
    "\n",
    "# Move the legend outside the plot using bbox_to_anchor\n",
    "plt.legend(bbox_to_anchor=(1.05, 1), loc='upper left')\n",
    "\n",
    "plt.savefig(MODEL_PATH + \"/plot_f1.png\")\n",
    "\n",
    "# Show the plot\n",
    "plt.show()\n",
    "\n",
    "plt_f1 = plt"
   ]
  },
  {
   "cell_type": "markdown",
   "id": "d2464acd-4625-44ac-b6c4-95343fe1b805",
   "metadata": {},
   "source": [
    "#### Distribution overview"
   ]
  },
  {
   "cell_type": "code",
   "execution_count": null,
   "id": "1a28e6b3-563c-4874-952f-c52db19e09ed",
   "metadata": {},
   "outputs": [],
   "source": [
    "# Set the width of the bars\n",
    "bar_width = 0.35\n",
    "\n",
    "# Create an array for the x-axis positions\n",
    "indices = np.arange(1, 11)\n",
    "\n",
    "# Create bar plots for true labels and rounded predictions side by side\n",
    "plt.bar(indices - bar_width/2, np.histogram(y_test, bins=np.arange(1, 12) - 0.5)[0], bar_width, label='True Labels', color='blue', edgecolor='black')\n",
    "plt.bar(indices + bar_width/2, np.histogram(y_pred_classified, bins=np.arange(1, 12) - 0.5)[0], bar_width, label='Predictions', color='orange', edgecolor='black')\n",
    "\n",
    "# Add labels and title\n",
    "plt.xlabel('Weather Code')\n",
    "plt.ylabel('Frequency')\n",
    "plt.title('Frequency Distribution of Weather Codes')\n",
    "plt.xticks(indices)\n",
    "plt.legend()\n",
    "\n",
    "# Show the plot\n",
    "plt.show()"
   ]
  },
  {
   "cell_type": "markdown",
   "id": "ac0b9956-1a91-4261-aaa2-52349f6f8d74",
   "metadata": {},
   "source": [
    "### Residuals"
   ]
  },
  {
   "cell_type": "code",
   "execution_count": null,
   "id": "a3d2943f-69a0-4660-8daa-833adea58402",
   "metadata": {},
   "outputs": [],
   "source": [
    "# Differences between the observed (actual) values and the predicted values\n",
    "# Ideally, the residuals should be randomly distributed around zero, indicating that the model's predictions are unbiased\n",
    "# On the x axis I see the different weather codes (difficult to inspect here, but the goal is the distribution)\n",
    "\n",
    "df_ = pd.DataFrame({\n",
    "    \"y_true\": y_test,\n",
    "    \"y_pred\": y_pred\n",
    "})\n",
    "residplot = sns.residplot(data=df_, x=\"y_true\", y=\"y_pred\", color='orange')\n",
    "plt.title('Model Residuals')\n",
    "plt.xlabel('Obsevation #')\n",
    "plt.ylabel('Error')\n",
    "\n",
    "plt.show()\n",
    "fig = residplot.get_figure()\n",
    "fig.show()\n",
    "\n",
    "# Save residuals plot\n",
    "fig.savefig(MODEL_PATH + \"/plot_residuals.png\")"
   ]
  },
  {
   "cell_type": "markdown",
   "id": "6dc387ae-5816-4b4e-886a-47e7609df951",
   "metadata": {},
   "source": [
    "### Feature importance"
   ]
  },
  {
   "cell_type": "code",
   "execution_count": null,
   "id": "1505f5a6-66ad-4d32-98b7-e35e4b038b8e",
   "metadata": {},
   "outputs": [],
   "source": [
    "# Scores for each feature based on how frequently they are used in the model during the training process,\n",
    "# and how much they contribute to reducing the loss function\n",
    "\n",
    "plot_importance(xgb_model)"
   ]
  },
  {
   "cell_type": "markdown",
   "id": "2ac9e979-335f-4b6f-b69a-c3ef6a593837",
   "metadata": {},
   "source": [
    "# Model Registry"
   ]
  },
  {
   "cell_type": "code",
   "execution_count": null,
   "id": "79fcc142-f963-44a0-b31f-0127fd579de5",
   "metadata": {},
   "outputs": [],
   "source": [
    "# Retrieve model registry\n",
    "mr = project.get_model_registry()"
   ]
  },
  {
   "cell_type": "markdown",
   "id": "e9727da3-f87d-4da6-9751-8243d58fe721",
   "metadata": {},
   "source": [
    "### Model Schema"
   ]
  },
  {
   "cell_type": "code",
   "execution_count": null,
   "id": "4ba05dbd-155b-435d-9c3a-d7d76cbe4375",
   "metadata": {},
   "outputs": [],
   "source": [
    "# Set up the Model Schema, which describes the inputs and outputs for a model\n",
    "input_schema = Schema(X)\n",
    "output_schema = Schema(y)\n",
    "model_schema = ModelSchema(input_schema=input_schema, output_schema=output_schema)"
   ]
  },
  {
   "cell_type": "markdown",
   "id": "cf914df6-bb21-48e4-96c2-0289ba752b8e",
   "metadata": {},
   "source": [
    "### Save model locally"
   ]
  },
  {
   "cell_type": "code",
   "execution_count": null,
   "id": "9f8a56cc-3a5b-414c-9831-89ee141a183a",
   "metadata": {},
   "outputs": [],
   "source": [
    "# Save regressor model\n",
    "joblib.dump(xgb_model, MODEL_PATH + '/'+ MODEL_NAME + '.pkl')\n",
    "\n",
    "# Save F1 report\n",
    "with open(MODEL_PATH + \"/f1_report.txt\", 'w') as file:\n",
    "    file.write(f1_report)"
   ]
  },
  {
   "cell_type": "markdown",
   "id": "2d69c39a-f841-465d-b4d3-e47aa9acf97c",
   "metadata": {},
   "source": [
    "### Upload model to Hopsworks"
   ]
  },
  {
   "cell_type": "code",
   "execution_count": null,
   "id": "7b7d6437-1788-4167-a847-8e1975e3a5c7",
   "metadata": {},
   "outputs": [],
   "source": [
    "# Define model for Hopsworks\n",
    "weather_code_model = mr.python.create_model(\n",
    "    name=MODEL_NAME, \n",
    "    metrics={\n",
    "        'F1': f1,\n",
    "        'R2': r2,\n",
    "        'MSE': mse,\n",
    "        'RMSE': rmse,\n",
    "    },\n",
    "    model_schema=model_schema, # attach model schema\n",
    "    input_example=X_test.sample().values, \n",
    "    description=\"Weather Code predictor.\")\n",
    "\n",
    "# Upload model to Hopsworks\n",
    "weather_code_model.save(MODEL_PATH)"
   ]
  }
 ],
 "metadata": {
  "kernelspec": {
   "display_name": "Python (hopsenv)",
   "language": "python",
   "name": "hopsenv"
  },
  "language_info": {
   "codemirror_mode": {
    "name": "ipython",
    "version": 3
   },
   "file_extension": ".py",
   "mimetype": "text/x-python",
   "name": "python",
   "nbconvert_exporter": "python",
   "pygments_lexer": "ipython3",
   "version": "3.10.13"
  }
 },
 "nbformat": 4,
 "nbformat_minor": 5
}
