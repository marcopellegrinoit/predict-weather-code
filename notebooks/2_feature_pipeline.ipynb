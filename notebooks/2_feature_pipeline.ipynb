{
 "cells": [
  {
   "cell_type": "markdown",
   "id": "bbc976de",
   "metadata": {},
   "source": [
    "# Feature pipeline\n",
    "* Query new weather data\n",
    "* Feature Group Insertion"
   ]
  },
  {
   "cell_type": "code",
   "execution_count": null,
   "id": "113ff829",
   "metadata": {},
   "outputs": [],
   "source": [
    "import pandas as pd\n",
    "import hopsworks\n",
    "import matplotlib.pyplot as plt\n",
    "import great_expectations as ge\n",
    "\n",
    "from weather_utils import *\n",
    "\n",
    "import sys\n",
    "sys.path.append('..')  # Add the parent directory (project root) to the Python path\n",
    "from config import *\n",
    "\n",
    "# Disable annoying warnings\n",
    "import warnings\n",
    "warnings.filterwarnings(\"ignore\")"
   ]
  },
  {
   "cell_type": "markdown",
   "id": "9dcf7767",
   "metadata": {},
   "source": [
    "# 1) Query Weather Data"
   ]
  },
  {
   "cell_type": "code",
   "execution_count": null,
   "id": "18086f40",
   "metadata": {},
   "outputs": [],
   "source": [
    "# Setup connection with Open-Meteo\n",
    "openmeteo = get_openmeteo_connection()\n",
    "\n",
    "# Define query parameters\n",
    "params = {\n",
    "    \"latitude\": LATITUDE,\n",
    "    \"longitude\": LONGITUDE,\n",
    "    \"daily\": [\"weather_code\", \"temperature_2m_min\", \"precipitation_sum\", \"wind_gusts_10m_max\"],\n",
    "    \"timezone\": TIMEZONE,\n",
    "    \"past_days\": 1,\n",
    "    \"forecast_days\": 0\n",
    "}\n",
    "\n",
    "# Execute the query\n",
    "responses = openmeteo.weather_api(BASELINE_URL_OPEN_METEO, params=params)\n",
    "\n",
    "# Extract the location because the response can be done for multiple cities as well\n",
    "response = responses[0]"
   ]
  },
  {
   "cell_type": "markdown",
   "id": "67d5ef47",
   "metadata": {},
   "source": [
    "# 3) Feature Engineering"
   ]
  },
  {
   "cell_type": "markdown",
   "id": "61565313",
   "metadata": {},
   "source": [
    "### 3a) Convert request to dataframe"
   ]
  },
  {
   "cell_type": "code",
   "execution_count": null,
   "id": "9f62eece",
   "metadata": {},
   "outputs": [],
   "source": [
    "# Process yesterday's data into a Pandas dataframe\n",
    "df_weather_yesterday = process_weather_request(response)"
   ]
  },
  {
   "cell_type": "code",
   "execution_count": null,
   "id": "00bf5548",
   "metadata": {},
   "outputs": [],
   "source": [
    "display(df_weather_yesterday)"
   ]
  },
  {
   "cell_type": "markdown",
   "id": "5a41355b",
   "metadata": {},
   "source": [
    "### 3b) Inspect data"
   ]
  },
  {
   "cell_type": "code",
   "execution_count": null,
   "id": "98a8d4be",
   "metadata": {},
   "outputs": [],
   "source": [
    "# Convert the WMO weather codes column to integers\n",
    "df_weather_yesterday['weather_code_wmo'] = df_weather_yesterday['weather_code_wmo'].astype(int)\n",
    "\n",
    "# Check again if there is any missing data\n",
    "df_weather_yesterday.info()"
   ]
  },
  {
   "cell_type": "markdown",
   "id": "88139f2c",
   "metadata": {},
   "source": [
    "### 3c) Format values"
   ]
  },
  {
   "cell_type": "code",
   "execution_count": null,
   "id": "dfa6ddf7",
   "metadata": {},
   "outputs": [],
   "source": [
    "# Add a new column with the month as an integer\n",
    "df_weather_yesterday['month'] = pd.to_datetime(df_weather_yesterday['date']).dt.month"
   ]
  },
  {
   "cell_type": "code",
   "execution_count": null,
   "id": "6a73047e",
   "metadata": {},
   "outputs": [],
   "source": [
    "# Group WMO codes into labels and new group code label\n",
    "df_weather_yesterday = group_wmo_weather_codes(df_weather_yesterday)"
   ]
  },
  {
   "cell_type": "code",
   "execution_count": null,
   "id": "62d4024d-5749-4cbc-ab7d-192153d553ab",
   "metadata": {},
   "outputs": [],
   "source": [
    "# Add weather code descriptions\n",
    "df_weather_yesterday = add_weather_code_labels(df_weather_yesterday)"
   ]
  },
  {
   "cell_type": "code",
   "execution_count": null,
   "id": "15fd31c1",
   "metadata": {},
   "outputs": [],
   "source": [
    "display(df_weather_yesterday)"
   ]
  },
  {
   "cell_type": "markdown",
   "id": "70e97363",
   "metadata": {},
   "source": [
    "# 4) Upload to Hopsworks Feature Store"
   ]
  },
  {
   "cell_type": "code",
   "execution_count": null,
   "id": "e919e47e",
   "metadata": {},
   "outputs": [],
   "source": [
    "# Connect to HopsWorks\n",
    "project = hopsworks.login()\n",
    "\n",
    "# Retrieve feature store\n",
    "fs = project.get_feature_store()"
   ]
  },
  {
   "cell_type": "code",
   "execution_count": null,
   "id": "d3a5f4b7",
   "metadata": {},
   "outputs": [],
   "source": [
    "# Create new Feature Store (no backfill) or retrieve if existing (backfill done, or past days already inserted)\n",
    "historical_weather_fg = fs.get_or_create_feature_group(\n",
    "    name=FG_HISTORY_NAME,\n",
    "    description=FG_HISTORY_DESC,\n",
    "    version=FG_HISTORY_V,\n",
    "    primary_key=FG_HISTORY_PK,\n",
    "    event_time=[\"date\"],\n",
    "    statistics_config={\"enabled\": True,\n",
    "                       \"histograms\": True,\n",
    "                       \"correlations\": True}\n",
    ")\n",
    "\n",
    "# Insert data in the feature group\n",
    "historical_weather_fg.insert(df_weather_yesterday,\n",
    "                             write_options={\"wait_for_job\": False} # wait for job to end, so the new data is processed in Hopsworks and the next pipeline can use it\n",
    "                            )"
   ]
  }
 ],
 "metadata": {
  "kernelspec": {
   "display_name": "Python 3 (ipykernel)",
   "language": "python",
   "name": "python3"
  },
  "language_info": {
   "codemirror_mode": {
    "name": "ipython",
    "version": 3
   },
   "file_extension": ".py",
   "mimetype": "text/x-python",
   "name": "python",
   "nbconvert_exporter": "python",
   "pygments_lexer": "ipython3",
   "version": "3.10.13"
  }
 },
 "nbformat": 4,
 "nbformat_minor": 5
}
