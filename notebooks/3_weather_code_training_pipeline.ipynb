{
 "cells": [
  {
   "cell_type": "markdown",
   "id": "a87b92ab",
   "metadata": {},
   "source": [
    "# Training Pipeline\n",
    "* Create and return Feature View\n",
    "* Create training and test sets\n",
    "* Define and train the regression model\n",
    "* Evaluate model\n",
    "* Push model to Hopsworks"
   ]
  },
  {
   "cell_type": "code",
   "execution_count": 41,
   "id": "9f3c259f",
   "metadata": {},
   "outputs": [],
   "source": [
    "import os\n",
    "import joblib\n",
    "import pandas as pd\n",
    "import hopsworks\n",
    "import config\n",
    "from xgboost import XGBRegressor\n",
    "from xgboost import plot_importance\n",
    "import pickle\n",
    "from sklearn.preprocessing import LabelEncoder\n",
    "from sklearn.model_selection import train_test_split\n",
    "from sklearn.metrics import mean_squared_error, r2_score, f1_score, classification_report\n",
    "import time\n",
    "import seaborn as sns\n",
    "import matplotlib.pyplot as plt\n",
    "from hsml.schema import Schema\n",
    "from hsml.model_schema import ModelSchema\n",
    "import numpy as np\n",
    "\n",
    "# Disable annoying warnings\n",
    "import warnings\n",
    "warnings.filterwarnings(\"ignore\")\n",
    "\n",
    "# Set path to save model and plots\n",
    "if os.path.isdir(MODEL_PATH) == False:\n",
    "    os.mkdir(MODEL_PATH)"
   ]
  },
  {
   "cell_type": "markdown",
   "id": "4071efea-6939-4d70-9aca-c8441b3c3768",
   "metadata": {},
   "source": [
    "# 1) Create and Return Feature View in Hopsworks"
   ]
  },
  {
   "cell_type": "code",
   "execution_count": 42,
   "id": "54a15b0d",
   "metadata": {},
   "outputs": [
    {
     "name": "stdout",
     "output_type": "stream",
     "text": [
      "Connection closed.\n",
      "Connected. Call `.close()` to terminate connection gracefully.\n",
      "\n",
      "Logged in to project, explore it here https://c.app.hopsworks.ai:443/p/178324\n",
      "Connected. Call `.close()` to terminate connection gracefully.\n"
     ]
    }
   ],
   "source": [
    "# Login to Hopsworks\n",
    "project = hopsworks.login()\n",
    "\n",
    "# Retrieve Feature Store\n",
    "fs = project.get_feature_store()"
   ]
  },
  {
   "cell_type": "code",
   "execution_count": 43,
   "id": "885ce568",
   "metadata": {},
   "outputs": [],
   "source": [
    "# Retrieve Feature Group\n",
    "weather_fg = fs.get_or_create_feature_group(\n",
    "    name = FEATURE_GROUP_NAME,\n",
    "    version = 1\n",
    ")"
   ]
  },
  {
   "cell_type": "code",
   "execution_count": 44,
   "id": "212f1d67-2f56-4f0e-899a-86e9861abfdc",
   "metadata": {},
   "outputs": [],
   "source": [
    "# Create Feature View in Hopsworks if first time, and return it\n",
    "feature_view = fs.get_or_create_feature_view(\n",
    "    name=FEATURE_VIEW_NAME,\n",
    "    version=1,\n",
    "    query=weather_fg.select_all()\n",
    ")"
   ]
  },
  {
   "cell_type": "markdown",
   "id": "dff826b7-19ef-47ce-abbc-0e25816d4b9c",
   "metadata": {},
   "source": [
    "# 2) Training Dataset Retrieval and Manipulation"
   ]
  },
  {
   "cell_type": "markdown",
   "id": "4ad1a413-4ef9-47e0-8e21-f46772b19345",
   "metadata": {},
   "source": [
    "### 2a) Create dataset in Hopsworks and pull it"
   ]
  },
  {
   "cell_type": "code",
   "execution_count": 46,
   "id": "50e64c06-8e80-4c25-af0e-07ba335cd07c",
   "metadata": {},
   "outputs": [
    {
     "name": "stdout",
     "output_type": "stream",
     "text": [
      "Training dataset job started successfully, you can follow the progress at \n",
      "https://c.app.hopsworks.ai/p/178324/jobs/named/weather_fv_1_create_fv_td_13112023154423/executions\n"
     ]
    }
   ],
   "source": [
    "# Create a csv dataset from Hopsworks feature view\n",
    "td_version, td_job = feature_view.create_training_data(\n",
    "    description = 'Weather Code dataset',\n",
    "    data_format = 'csv',\n",
    "    write_options = {'wait_for_job': True}\n",
    ")"
   ]
  },
  {
   "cell_type": "code",
   "execution_count": 47,
   "id": "5ec41ec3-7573-46fb-9d10-6b7678e4b016",
   "metadata": {},
   "outputs": [
    {
     "name": "stdout",
     "output_type": "stream",
     "text": [
      "Dataset contains 212 entries\n"
     ]
    }
   ],
   "source": [
    "# Get the previously computed dataset\n",
    "X, _ = feature_view.get_training_data(\n",
    "    training_dataset_version=td_version\n",
    ")\n",
    "\n",
    "print('Dataset contains', X.shape[0], 'entries')"
   ]
  },
  {
   "cell_type": "markdown",
   "id": "5f6f631d-6742-4b04-8576-c7b8203b3c2a",
   "metadata": {},
   "source": [
    "### 2b) Split train/test set"
   ]
  },
  {
   "cell_type": "code",
   "execution_count": 48,
   "id": "e65d9844-c83d-451e-a451-27b9a8923739",
   "metadata": {},
   "outputs": [
    {
     "name": "stdout",
     "output_type": "stream",
     "text": [
      "Training set contains 169 samples, while the test set contains 43.\n"
     ]
    }
   ],
   "source": [
    "# Select only model features\n",
    "X = X.drop(columns=[\"weather_code_label\", \"weather_code_wmo\", \"date\"]).fillna(0)\n",
    "\n",
    "# Get labels of the test set\n",
    "y = X.pop('weather_code')\n",
    "\n",
    "# Split 80% training, 20% test\n",
    "X_train, X_test, y_train, y_test = train_test_split(X, y, test_size=0.2, random_state=42)\n",
    "\n",
    "print(f'Training set contains {X_train.shape[0]} samples, '\n",
    "      f'while the test set contains {X_test.shape[0]}.')"
   ]
  },
  {
   "cell_type": "markdown",
   "id": "b761b9ed-e272-41ae-9ea0-9d6635f6e82a",
   "metadata": {},
   "source": [
    "# 3) Model training"
   ]
  },
  {
   "cell_type": "code",
   "execution_count": 49,
   "id": "e1f804e6-e337-49cd-95d9-e24c8d06f231",
   "metadata": {},
   "outputs": [
    {
     "name": "stdout",
     "output_type": "stream",
     "text": [
      "Took 0.18 sec to train model.\n",
      "\n"
     ]
    }
   ],
   "source": [
    "# Save initial time\n",
    "start_of_cell = time.time()\n",
    "\n",
    "# Create model\n",
    "xgb_model = XGBRegressor()\n",
    "\n",
    "# Train model on the training set\n",
    "xgb_model.fit(X_train, y_train)\n",
    "\n",
    "print(f\"Took {round(time.time() - start_of_cell, 2)} sec to train model.\\n\")"
   ]
  },
  {
   "cell_type": "markdown",
   "id": "be82f5ef-16eb-4759-9554-87704b180418",
   "metadata": {},
   "source": [
    "# 4) Model validation"
   ]
  },
  {
   "cell_type": "markdown",
   "id": "f18da4ed-4316-4a71-b7ad-46802cbd9ba9",
   "metadata": {},
   "source": [
    "### 4a) MSE, RMSE, $R^2$"
   ]
  },
  {
   "cell_type": "code",
   "execution_count": 50,
   "id": "08da49f3-094e-44df-9d4c-267f2de5a361",
   "metadata": {},
   "outputs": [
    {
     "name": "stdout",
     "output_type": "stream",
     "text": [
      "MSE: 5.5896134664541135\n",
      "RMSE: 2.36423633895897\n",
      "R2: 0.6478878679656017\n"
     ]
    }
   ],
   "source": [
    "# Predict over test set\n",
    "y_pred = xgb_model.predict(X_test)\n",
    "\n",
    "# Calculate MSE\n",
    "# Average squared difference between predicted and actual values\n",
    "# Penalizes large errors heavily, making it sensitive to outliers\n",
    "# Useful when I don't want to give more weight to larger errors compared to smaller ones\n",
    "mse = mean_squared_error(y_test, y_pred)\n",
    "print(\"MSE:\", mse)\n",
    "\n",
    "# Calculate RMSE (square root of the MSE)\n",
    "# Same sensitivity to large errors as MSE but more interpretable\n",
    "rmse = mean_squared_error(y_test, y_pred, squared=False)\n",
    "print(\"RMSE:\", rmse)\n",
    "\n",
    "# Calculate R squared\n",
    "# How well the model explains the variance in the data\n",
    "# Proportion of the variance in the prediction that is explained by the features\n",
    "r2 = r2_score(y_test, y_pred)\n",
    "print(\"R2:\", r2)"
   ]
  },
  {
   "cell_type": "markdown",
   "id": "fd5f8e71-ce33-4eb3-bb8b-466f8587fcc8",
   "metadata": {},
   "source": [
    "### 4b) F1 score (classification)"
   ]
  },
  {
   "cell_type": "code",
   "execution_count": 51,
   "id": "f8b3cdda-c37f-4685-b221-9f133f8ebd52",
   "metadata": {},
   "outputs": [
    {
     "name": "stdout",
     "output_type": "stream",
     "text": [
      "Weighted-averaged F1 score: 0.5389344683651018 \n",
      "\n"
     ]
    }
   ],
   "source": [
    "# Round predicted value to closes weather code\n",
    "y_pred_classified = np.round(y_pred).astype(int)\n",
    "\n",
    "# Calculate F1-score\n",
    "f1 = f1_score(y_test, y_pred_classified, average='weighted')\n",
    "print(\"Weighted-averaged F1 score:\", f1,'\\n')"
   ]
  },
  {
   "cell_type": "code",
   "execution_count": 52,
   "id": "000045c0-5e63-42ac-bd94-145c60b32b9d",
   "metadata": {},
   "outputs": [
    {
     "name": "stdout",
     "output_type": "stream",
     "text": [
      "                                                  precision    recall  f1-score   support\n",
      "\n",
      "       Mainly clear, partly cloudy, and overcast       0.79      0.73      0.76        15\n",
      "                     Fog and depositing rime fog       0.33      0.67      0.44         3\n",
      "      Rain: Slight, moderate and heavy intensity       0.00      0.00      0.00         4\n",
      "Snow fall: Slight, moderate, and heavy intensity       0.00      0.00      0.00         0\n",
      "                                     Snow grains       0.00      0.00      0.00         0\n",
      "     Rain showers: Slight, moderate, and violent       0.89      0.47      0.62        17\n",
      "                   Snow showers slight and heavy       0.00      0.00      0.00         0\n",
      "                Thunderstorm: Slight or moderate       0.00      0.00      0.00         3\n",
      "         Thunderstorm with slight and heavy hail       0.00      0.00      0.00         1\n",
      "\n",
      "                                        accuracy                           0.49        43\n",
      "                                       macro avg       0.22      0.21      0.20        43\n",
      "                                    weighted avg       0.65      0.49      0.54        43\n",
      "\n"
     ]
    }
   ],
   "source": [
    "# Select labels of weather codes\n",
    "df_codes_mapping = pd.read_csv(\"../resources/weather_code_mapping.csv\")\n",
    "target_names = df_codes_mapping['weather_code_label']\n",
    "combined_indices = np.concatenate([y_pred_classified, y_test])\n",
    "selected_rows = df_codes_mapping[df_codes_mapping['weather_code'].isin(combined_indices)]\n",
    "filtered_target_names = selected_rows['weather_code_label']\n",
    "\n",
    "# Print full F1 report\n",
    "f1_report = classification_report(y_test, y_pred_classified, target_names=filtered_target_names)\n",
    "print(f1_report)"
   ]
  },
  {
   "cell_type": "code",
   "execution_count": 53,
   "id": "e7209ef8-187a-4f5b-8951-3c9616fb21dd",
   "metadata": {},
   "outputs": [
    {
     "data": {
      "image/png": "[encoded data removed]",
      "text/plain": [
       "<Figure size 640x480 with 1 Axes>"
      ]
     },
     "metadata": {},
     "output_type": "display_data"
    }
   ],
   "source": [
    "# Plot F1 report\n",
    "report = classification_report(y_test, y_pred_classified, output_dict=True)\n",
    "\n",
    "# Extract the relevant metrics for each class\n",
    "classes = [int(c) for c in report.keys() if c.isdigit()]  # Extract numeric classes\n",
    "tp = [report[str(c)]['precision'] * report[str(c)]['support'] for c in classes]\n",
    "fp = [(1 - report[str(c)]['precision']) * report[str(c)]['support'] for c in classes]\n",
    "tn = [report[str(c)]['recall'] * report[str(c)]['support'] for c in classes]\n",
    "fn = [(1 - report[str(c)]['recall']) * report[str(c)]['support'] for c in classes]\n",
    "\n",
    "# Create a stacked bar plot\n",
    "fig, ax = plt.subplots()\n",
    "ax.bar(classes, tp, label='True Positives', color='green')\n",
    "ax.bar(classes, fp, bottom=tp, label='False Positives', color='red')\n",
    "ax.bar(classes, tn, bottom=np.array(tp) + np.array(fp), label='True Negatives', color='blue')\n",
    "ax.bar(classes, fn, bottom=np.array(tp) + np.array(fp) + np.array(tn), label='False Negatives', color='orange')\n",
    "\n",
    "# Add labels and title\n",
    "plt.xlabel('Weather Code')\n",
    "plt.ylabel('Count')\n",
    "plt.title('F1 Metrics for Each Weather Code')\n",
    "\n",
    "# Move the legend outside the plot using bbox_to_anchor\n",
    "plt.legend(bbox_to_anchor=(1.05, 1), loc='upper left')\n",
    "\n",
    "plt.savefig(MODEL_PATH + \"/plot_f1.png\")\n",
    "\n",
    "# Show the plot\n",
    "plt.show()\n",
    "\n",
    "plt_f1 = plt"
   ]
  },
  {
   "cell_type": "markdown",
   "id": "d2464acd-4625-44ac-b6c4-95343fe1b805",
   "metadata": {},
   "source": [
    "### 4c) Distribution overview"
   ]
  },
  {
   "cell_type": "code",
   "execution_count": 54,
   "id": "1a28e6b3-563c-4874-952f-c52db19e09ed",
   "metadata": {},
   "outputs": [
    {
     "data": {
      "image/png": "[encoded data removed]",
      "text/plain": [
       "<Figure size 640x480 with 1 Axes>"
      ]
     },
     "metadata": {},
     "output_type": "display_data"
    }
   ],
   "source": [
    "# Set the width of the bars\n",
    "bar_width = 0.35\n",
    "\n",
    "# Create an array for the x-axis positions\n",
    "indices = np.arange(1, 11)\n",
    "\n",
    "# Create bar plots for true labels and rounded predictions side by side\n",
    "plt.bar(indices - bar_width/2, np.histogram(y_test, bins=np.arange(1, 12) - 0.5)[0], bar_width, label='True Labels', color='blue', edgecolor='black')\n",
    "plt.bar(indices + bar_width/2, np.histogram(y_pred_classified, bins=np.arange(1, 12) - 0.5)[0], bar_width, label='Predictions', color='orange', edgecolor='black')\n",
    "\n",
    "# Add labels and title\n",
    "plt.xlabel('Weather Code')\n",
    "plt.ylabel('Frequency')\n",
    "plt.title('Frequency Distribution of Weather Codes')\n",
    "plt.xticks(indices)\n",
    "plt.legend()\n",
    "\n",
    "# Show the plot\n",
    "plt.show()"
   ]
  },
  {
   "cell_type": "markdown",
   "id": "ac0b9956-1a91-4261-aaa2-52349f6f8d74",
   "metadata": {},
   "source": [
    "### 4d) Residuals"
   ]
  },
  {
   "cell_type": "code",
   "execution_count": 55,
   "id": "a3d2943f-69a0-4660-8daa-833adea58402",
   "metadata": {},
   "outputs": [
    {
     "data": {
      "image/png": "[encoded data removed]",
      "text/plain": [
       "<Figure size 640x480 with 1 Axes>"
      ]
     },
     "metadata": {},
     "output_type": "display_data"
    }
   ],
   "source": [
    "df_ = pd.DataFrame({\n",
    "    \"y_true\": y_test,\n",
    "    \"y_pred\": y_pred\n",
    "})\n",
    "residplot = sns.residplot(data=df_, x=\"y_true\", y=\"y_pred\", color='orange')\n",
    "plt.title('Model Residuals')\n",
    "plt.xlabel('Obsevation #')\n",
    "plt.ylabel('Error')\n",
    "\n",
    "plt.show()\n",
    "fig = residplot.get_figure()\n",
    "fig.show()\n",
    "\n",
    "# Save residuals plot\n",
    "fig.savefig(MODEL_PATH + \"/plot_residuals.png\")"
   ]
  },
  {
   "cell_type": "markdown",
   "id": "6dc387ae-5816-4b4e-886a-47e7609df951",
   "metadata": {},
   "source": [
    "### 4e) Feature importance"
   ]
  },
  {
   "cell_type": "code",
   "execution_count": 56,
   "id": "1505f5a6-66ad-4d32-98b7-e35e4b038b8e",
   "metadata": {},
   "outputs": [
    {
     "data": {
      "text/plain": [
       "<Axes: title={'center': 'Feature importance'}, xlabel='F score', ylabel='Features'>"
      ]
     },
     "execution_count": 56,
     "metadata": {},
     "output_type": "execute_result"
    },
    {
     "data": {
      "image/png": "[encoded data removed]",
      "text/plain": [
       "<Figure size 640x480 with 1 Axes>"
      ]
     },
     "metadata": {},
     "output_type": "display_data"
    }
   ],
   "source": [
    "plot_importance(xgb_model)"
   ]
  },
  {
   "cell_type": "markdown",
   "id": "2ac9e979-335f-4b6f-b69a-c3ef6a593837",
   "metadata": {},
   "source": [
    "# 5) Model Registry"
   ]
  },
  {
   "cell_type": "code",
   "execution_count": 57,
   "id": "79fcc142-f963-44a0-b31f-0127fd579de5",
   "metadata": {},
   "outputs": [
    {
     "name": "stdout",
     "output_type": "stream",
     "text": [
      "Connected. Call `.close()` to terminate connection gracefully.\n"
     ]
    }
   ],
   "source": [
    "# Retrieve model registry\n",
    "mr = project.get_model_registry()"
   ]
  },
  {
   "cell_type": "markdown",
   "id": "e9727da3-f87d-4da6-9751-8243d58fe721",
   "metadata": {},
   "source": [
    "### 5a) Model Schema"
   ]
  },
  {
   "cell_type": "code",
   "execution_count": 58,
   "id": "4ba05dbd-155b-435d-9c3a-d7d76cbe4375",
   "metadata": {},
   "outputs": [],
   "source": [
    "# Set up the Model Schema, which describes the inputs and outputs for a model\n",
    "input_schema = Schema(X)\n",
    "output_schema = Schema(y)\n",
    "model_schema = ModelSchema(input_schema=input_schema, output_schema=output_schema)"
   ]
  },
  {
   "cell_type": "markdown",
   "id": "cf914df6-bb21-48e4-96c2-0289ba752b8e",
   "metadata": {},
   "source": [
    "### 5b) Save model locally"
   ]
  },
  {
   "cell_type": "code",
   "execution_count": 59,
   "id": "9f8a56cc-3a5b-414c-9831-89ee141a183a",
   "metadata": {},
   "outputs": [],
   "source": [
    "# Save regressor model\n",
    "joblib.dump(xgb_model, MODEL_PATH + '/xgboost_regressor.pkl')\n",
    "\n",
    "# Save F1 report\n",
    "with open(MODEL_PATH + \"/f1_report.txt\", 'w') as file:\n",
    "    file.write(f1_report)"
   ]
  },
  {
   "cell_type": "markdown",
   "id": "2d69c39a-f841-465d-b4d3-e47aa9acf97c",
   "metadata": {},
   "source": [
    "### 5c) Upload model to Hopsworks"
   ]
  },
  {
   "cell_type": "code",
   "execution_count": 60,
   "id": "7b7d6437-1788-4167-a847-8e1975e3a5c7",
   "metadata": {},
   "outputs": [
    {
     "data": {
      "application/vnd.jupyter.widget-view+json": {
       "model_id": "939bdd629d1b41ee9ee259ac39ec4c7b",
       "version_major": 2,
       "version_minor": 0
      },
      "text/plain": [
       "  0%|          | 0/6 [00:00<?, ?it/s]"
      ]
     },
     "metadata": {},
     "output_type": "display_data"
    },
    {
     "name": "stdout",
     "output_type": "stream",
     "text": [
      "Model created, explore it at https://c.app.hopsworks.ai:443/p/178324/models/weather_code_xgboost_model/2\n"
     ]
    },
    {
     "data": {
      "text/plain": [
       "Model(name: 'weather_code_xgboost_model', version: 2)"
      ]
     },
     "execution_count": 60,
     "metadata": {},
     "output_type": "execute_result"
    }
   ],
   "source": [
    "# Define model for Hopsworks\n",
    "weather_code_model = mr.python.create_model(\n",
    "    name=MODEL_NAME, \n",
    "    metrics={\n",
    "        \"RMSE\": rmse,\n",
    "        \"MSE\": mse,\n",
    "        \"R squared\": r2,\n",
    "        \"Weighted-averaged F1 score\": f1\n",
    "    },\n",
    "    model_schema=model_schema, # attach model schema\n",
    "    input_example=X_test.sample().values, \n",
    "    description=\"Weather Code predictor.\")\n",
    "\n",
    "# Upload model to Hopsworks\n",
    "weather_code_model.save(weather_code_model)"
   ]
  }
 ],
 "metadata": {
  "kernelspec": {
   "display_name": "Python 3 (ipykernel)",
   "language": "python",
   "name": "python3"
  },
  "language_info": {
   "codemirror_mode": {
    "name": "ipython",
    "version": 3
   },
   "file_extension": ".py",
   "mimetype": "text/x-python",
   "name": "python",
   "nbconvert_exporter": "python",
   "pygments_lexer": "ipython3",
   "version": "3.11.5"
  }
 },
 "nbformat": 4,
 "nbformat_minor": 5
}
