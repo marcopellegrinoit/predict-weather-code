{
 "cells": [
  {
   "cell_type": "markdown",
   "id": "b894b807-0d9d-4046-b6fb-6a14d273ad01",
   "metadata": {},
   "source": [
    "# Batch Daily Inference Pipeline\n",
    "* Retrieve best model from Hopsworks\n",
    "* Scrape weather forecasts for next 14 days\n",
    "* Predict weather code and store predictions in Hopsworks"
   ]
  },
  {
   "cell_type": "code",
   "execution_count": 14,
   "id": "1d33e201-0014-4701-82c8-0e68f18ffb92",
   "metadata": {},
   "outputs": [],
   "source": [
    "import hopsworks\n",
    "import joblib\n",
    "from config import *"
   ]
  },
  {
   "cell_type": "markdown",
   "id": "ecf7f66f-e51f-400b-bc69-77567cc18626",
   "metadata": {},
   "source": [
    "# 1) Retrieve best model from Hopsworks"
   ]
  },
  {
   "cell_type": "code",
   "execution_count": 15,
   "id": "80d9b135-fe95-4e77-a61f-c10880b2709f",
   "metadata": {},
   "outputs": [
    {
     "name": "stdout",
     "output_type": "stream",
     "text": [
      "Connection closed.\n",
      "Connected. Call `.close()` to terminate connection gracefully.\n",
      "\n",
      "Logged in to project, explore it here https://c.app.hopsworks.ai:443/p/178324\n",
      "Connected. Call `.close()` to terminate connection gracefully.\n",
      "Connected. Call `.close()` to terminate connection gracefully.\n",
      "Downloading file ... Model: /var/folders/kf/md7wd1294hv6n5qvkc2149qr0000gn/T/1a27bd45-4111-4c05-bb58-d2666df70e96/weather_code_xgboost_model/1\n"
     ]
    }
   ],
   "source": [
    "# Connect to Hopsworks\n",
    "project = hopsworks.login()\n",
    "\n",
    "# Retrieve Feature Store\n",
    "fs = project.get_feature_store()\n",
    "\n",
    "# Get Model Registry\n",
    "mr = project.get_model_registry()\n",
    "\n",
    "# Select best model based on evaluation metric\n",
    "weather_code_model = mr.get_best_model(MODEL_NAME,\n",
    "                          MODEL_METRIC,\n",
    "                          OPTIMIZE_DIRECTION)\n",
    "\n",
    "# Download model path\n",
    "model_dir = weather_code_model.download()\n",
    "\n",
    "# Download model\n",
    "model = joblib.load(model_dir + '/'+ MODEL_NAME + '.pkl')\n",
    "\n",
    "print(\"Model:\", model_dir)"
   ]
  },
  {
   "cell_type": "code",
   "execution_count": null,
   "id": "de6dc55e-0dcc-410a-a1a8-4ff11bc8a264",
   "metadata": {},
   "outputs": [],
   "source": []
  }
 ],
 "metadata": {
  "kernelspec": {
   "display_name": "Python 3 (ipykernel)",
   "language": "python",
   "name": "python3"
  },
  "language_info": {
   "codemirror_mode": {
    "name": "ipython",
    "version": 3
   },
   "file_extension": ".py",
   "mimetype": "text/x-python",
   "name": "python",
   "nbconvert_exporter": "python",
   "pygments_lexer": "ipython3",
   "version": "3.11.5"
  }
 },
 "nbformat": 4,
 "nbformat_minor": 5
}
