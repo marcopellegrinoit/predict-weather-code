{
 "cells": [
  {
   "cell_type": "markdown",
   "id": "b894b807-0d9d-4046-b6fb-6a14d273ad01",
   "metadata": {},
   "source": [
    "# Batch Daily Inference Pipeline\n",
    "* Retrieve best model from Hopsworks\n",
    "* Scrape weather forecasts for next 14 days\n",
    "* Predict weather code and store predictions in Hopsworks"
   ]
  },
  {
   "cell_type": "code",
   "execution_count": 1,
   "id": "1d33e201-0014-4701-82c8-0e68f18ffb92",
   "metadata": {},
   "outputs": [],
   "source": [
    "import hopsworks\n",
    "import joblib\n",
    "import numpy as np\n",
    "import pandas as pd\n",
    "from weather_utils import *\n",
    "\n",
    "import sys\n",
    "sys.path.append('..')  # Add the parent directory (project root) to the Python path\n",
    "from config import *\n",
    "\n",
    "# Disable annoying warnings\n",
    "import warnings\n",
    "warnings.filterwarnings(\"ignore\")"
   ]
  },
  {
   "cell_type": "markdown",
   "id": "ecf7f66f-e51f-400b-bc69-77567cc18626",
   "metadata": {},
   "source": [
    "# 1) Retrieve best model from Hopsworks"
   ]
  },
  {
   "cell_type": "code",
   "execution_count": 2,
   "id": "80d9b135-fe95-4e77-a61f-c10880b2709f",
   "metadata": {},
   "outputs": [
    {
     "name": "stdout",
     "output_type": "stream",
     "text": [
      "Connected. Call `.close()` to terminate connection gracefully.\n",
      "\n",
      "Logged in to project, explore it here https://c.app.hopsworks.ai:443/p/178324\n",
      "Connected. Call `.close()` to terminate connection gracefully.\n",
      "Connected. Call `.close()` to terminate connection gracefully.\n",
      "Downloading file ... Model: /var/folders/kf/md7wd1294hv6n5qvkc2149qr0000gn/T/a4b7bf41-d37d-4749-89f9-844b5c2419d8/weather_code_xgboost_model/1\n"
     ]
    }
   ],
   "source": [
    "# Connect to Hopsworks\n",
    "project = hopsworks.login()\n",
    "\n",
    "# Retrieve Feature Store\n",
    "fs = project.get_feature_store()\n",
    "\n",
    "# Get Model Registry\n",
    "mr = project.get_model_registry()\n",
    "\n",
    "# Select best model based on evaluation metric\n",
    "weather_code_model = mr.get_best_model(MODEL_NAME,\n",
    "                          MODEL_METRIC,\n",
    "                          OPTIMIZE_DIRECTION)\n",
    "\n",
    "# Download model path\n",
    "model_dir = weather_code_model.download()\n",
    "\n",
    "# Download model\n",
    "model = joblib.load(model_dir + '/'+ MODEL_NAME + '.pkl')\n",
    "\n",
    "print(\"Model:\", model_dir)"
   ]
  },
  {
   "cell_type": "markdown",
   "id": "01121683-db52-4a48-99c8-6c45b3d59cfb",
   "metadata": {},
   "source": [
    "# 2) Scrape weather forecasts for next 14 days"
   ]
  },
  {
   "cell_type": "code",
   "execution_count": 3,
   "id": "de6dc55e-0dcc-410a-a1a8-4ff11bc8a264",
   "metadata": {},
   "outputs": [
    {
     "name": "stdout",
     "output_type": "stream",
     "text": [
      "          date  temperature_min  precipitation_sum  wind_gusts_max\n",
      "0   2023-11-13           1.4175           0.600000       27.000000\n",
      "1   2023-11-14           0.1675           0.000000       27.719999\n",
      "2   2023-11-15          -0.3325           0.100000       25.559999\n",
      "3   2023-11-16          -0.4805           0.600000       23.039999\n",
      "4   2023-11-17          -2.0805           0.000000       17.280001\n",
      "5   2023-11-18          -2.2305           0.000000       18.719999\n",
      "6   2023-11-19          -2.9455           0.000000       29.879999\n",
      "7   2023-11-20          -4.5955           0.000000       37.079998\n",
      "8   2023-11-21          -2.7415           1.600000       41.039997\n",
      "9   2023-11-22          -1.3415           0.900000       39.239998\n",
      "10  2023-11-23          -3.4415           3.099999       46.079998\n",
      "11  2023-11-24          -5.3915           0.400000       47.880001\n",
      "12  2023-11-25          -6.0915           0.000000       39.959999\n",
      "13  2023-11-26          -3.9915           0.000000       55.799999\n"
     ]
    }
   ],
   "source": [
    "# Define query parameters\n",
    "params = {\n",
    "    \"latitude\": LATITUDE,\n",
    "    \"longitude\": LONGITUDE,\n",
    "    \"daily\": [\"temperature_2m_min\", \"precipitation_sum\", \"wind_gusts_10m_max\"],\n",
    "    \"timezone\": TIMEZONE,\n",
    "    \"past_days\": 0,\n",
    "    \"forecast_days\": 14\n",
    "}\n",
    "\n",
    "# Setup connection with Open-Meteo\n",
    "openmeteo = get_openmeteo_connection()\n",
    "\n",
    "# Execute the query\n",
    "responses = openmeteo.weather_api(BASELINE_URL_OPEN_METEO, params=params)\n",
    "\n",
    "# Extract the location because the response can be done for multiple cities as well\n",
    "response = responses[0]\n",
    "\n",
    "# Process yesterday's data into a Pandas dataframe\n",
    "df_forecasts = process_forecast_request(response)\n",
    "\n",
    "print(df_forecasts)"
   ]
  },
  {
   "cell_type": "markdown",
   "id": "b59efcfc-5039-4136-a17a-50175e066309",
   "metadata": {},
   "source": [
    "# 3) Predict Weather Code"
   ]
  },
  {
   "cell_type": "code",
   "execution_count": 4,
   "id": "d2745f52-2f94-4254-9b92-689841aa45e8",
   "metadata": {},
   "outputs": [
    {
     "name": "stdout",
     "output_type": "stream",
     "text": [
      "Index(['temperature_min', 'precipitation_sum', 'wind_gusts_max', 'month'], dtype='object')\n"
     ]
    }
   ],
   "source": [
    "# Add a new column with the month as an integer\n",
    "df_forecasts['month'] = pd.to_datetime(df_forecasts['date']).dt.month\n",
    "\n",
    "# Select features for model\n",
    "X = df_forecasts.drop(columns=[\"date\"])\n",
    "print(X.columns)"
   ]
  },
  {
   "cell_type": "code",
   "execution_count": 5,
   "id": "2d7904dd-14f1-418c-ade3-4b04085615fc",
   "metadata": {},
   "outputs": [],
   "source": [
    "# Train model on the training set\n",
    "y = model.predict(X)\n",
    "\n",
    "# Round predicted value to closest weather code\n",
    "y = np.round(y).astype(int)\n",
    "\n",
    "df_forecasts['weather_code_prediction'] = y"
   ]
  },
  {
   "cell_type": "code",
   "execution_count": 6,
   "id": "4008f26d-8bc6-4aac-80f2-da3dc64db472",
   "metadata": {},
   "outputs": [],
   "source": [
    "# Add label of weather code\n",
    "df_codes_mapping = pd.read_csv(\"../resources/weather_code_mapping.csv\")\n",
    "\n",
    "# Merge DataFrames on the 'weather_code' column\n",
    "df_forecasts = pd.merge(df_forecasts, df_codes_mapping, left_on='weather_code_prediction', right_on='weather_code', how='left')\n",
    "\n",
    "# Drop the redundant 'weather_code' column if needed\n",
    "df_forecasts = df_forecasts.drop(['weather_code', 'weather_code_wmo'], axis=1)"
   ]
  },
  {
   "cell_type": "code",
   "execution_count": 7,
   "id": "9d3b4e16-67ac-4bee-87ca-3028cc033366",
   "metadata": {},
   "outputs": [
    {
     "name": "stdout",
     "output_type": "stream",
     "text": [
      "          date  temperature_min  precipitation_sum  wind_gusts_max  month  \\\n",
      "0   2023-11-13           1.4175           0.600000       27.000000     11   \n",
      "1   2023-11-14           0.1675           0.000000       27.719999     11   \n",
      "2   2023-11-15          -0.3325           0.100000       25.559999     11   \n",
      "3   2023-11-16          -0.4805           0.600000       23.039999     11   \n",
      "4   2023-11-17          -2.0805           0.000000       17.280001     11   \n",
      "5   2023-11-18          -2.2305           0.000000       18.719999     11   \n",
      "6   2023-11-19          -2.9455           0.000000       29.879999     11   \n",
      "7   2023-11-20          -4.5955           0.000000       37.079998     11   \n",
      "8   2023-11-21          -2.7415           1.600000       41.039997     11   \n",
      "9   2023-11-22          -1.3415           0.900000       39.239998     11   \n",
      "10  2023-11-23          -3.4415           3.099999       46.079998     11   \n",
      "11  2023-11-24          -5.3915           0.400000       47.880001     11   \n",
      "12  2023-11-25          -6.0915           0.000000       39.959999     11   \n",
      "13  2023-11-26          -3.9915           0.000000       55.799999     11   \n",
      "\n",
      "    weather_code_prediction                             weather_code_label  \\\n",
      "0                         4  Drizzle: Light, moderate, and dense intensity   \n",
      "1                         2      Mainly clear, partly cloudy, and overcast   \n",
      "2                         4  Drizzle: Light, moderate, and dense intensity   \n",
      "3                         4  Drizzle: Light, moderate, and dense intensity   \n",
      "4                         2      Mainly clear, partly cloudy, and overcast   \n",
      "5                         2      Mainly clear, partly cloudy, and overcast   \n",
      "6                         2      Mainly clear, partly cloudy, and overcast   \n",
      "7                         2      Mainly clear, partly cloudy, and overcast   \n",
      "8                         4  Drizzle: Light, moderate, and dense intensity   \n",
      "9                         4  Drizzle: Light, moderate, and dense intensity   \n",
      "10                        4  Drizzle: Light, moderate, and dense intensity   \n",
      "11                        4  Drizzle: Light, moderate, and dense intensity   \n",
      "12                        2      Mainly clear, partly cloudy, and overcast   \n",
      "13                        2      Mainly clear, partly cloudy, and overcast   \n",
      "\n",
      "   weather_code_group  \n",
      "0             Drizzle  \n",
      "1               Clear  \n",
      "2             Drizzle  \n",
      "3             Drizzle  \n",
      "4               Clear  \n",
      "5               Clear  \n",
      "6               Clear  \n",
      "7               Clear  \n",
      "8             Drizzle  \n",
      "9             Drizzle  \n",
      "10            Drizzle  \n",
      "11            Drizzle  \n",
      "12              Clear  \n",
      "13              Clear  \n"
     ]
    }
   ],
   "source": [
    "print(df_forecasts)"
   ]
  },
  {
   "cell_type": "markdown",
   "id": "66556789-6abc-405f-875f-6ff42eda49a0",
   "metadata": {},
   "source": [
    "# 4) Update forecasts in Hopsworks Feature Group"
   ]
  },
  {
   "cell_type": "code",
   "execution_count": 9,
   "id": "ff933d89-4b24-414d-b425-c5b1ef05129f",
   "metadata": {},
   "outputs": [
    {
     "name": "stdout",
     "output_type": "stream",
     "text": [
      "Feature Group created successfully, explore it at \n",
      "https://c.app.hopsworks.ai:443/p/178324/fs/178243/fg/219529\n"
     ]
    },
    {
     "data": {
      "application/vnd.jupyter.widget-view+json": {
       "model_id": "687e6d8185a547b6a5319e1c809812ee",
       "version_major": 2,
       "version_minor": 0
      },
      "text/plain": [
       "Uploading Dataframe: 0.00% |          | Rows 0/14 | Elapsed Time: 00:00 | Remaining Time: ?"
      ]
     },
     "metadata": {},
     "output_type": "display_data"
    },
    {
     "name": "stdout",
     "output_type": "stream",
     "text": [
      "Launching job: weather_forecast_fg_1_offline_fg_materialization\n",
      "Job started successfully, you can follow the progress at \n",
      "https://c.app.hopsworks.ai/p/178324/jobs/named/weather_forecast_fg_1_offline_fg_materialization/executions\n"
     ]
    },
    {
     "data": {
      "text/plain": [
       "(<hsfs.core.job.Job at 0x13f2f31d0>, None)"
      ]
     },
     "execution_count": 9,
     "metadata": {},
     "output_type": "execute_result"
    }
   ],
   "source": [
    "# Get or create Feature Group\n",
    "weather_code_predictions_fg = fs.get_or_create_feature_group(\n",
    "    name=FEATURE_GROUP_FORECAST,\n",
    "    version=1,\n",
    "    primary_key=[\"date\"],\n",
    "    event_time=[\"date\"],\n",
    "    description=\"Weather code forecast\")\n",
    "\n",
    "# Insert data\n",
    "weather_code_predictions_fg.insert(df_forecasts, write_options={\"wait_for_job\" : True})"
   ]
  },
  {
   "cell_type": "code",
   "execution_count": 10,
   "id": "eae0df7c-ad1e-47f0-9200-7086bfbf5a95",
   "metadata": {},
   "outputs": [],
   "source": [
    "# save forecast locally\n",
    "df_forecasts.to_csv('../resources/forecast.csv')"
   ]
  },
  {
   "cell_type": "code",
   "execution_count": 11,
   "id": "ee5389a9-4df0-46bf-950a-1217bfc64132",
   "metadata": {},
   "outputs": [
    {
     "data": {
      "application/vnd.jupyter.widget-view+json": {
       "model_id": "c1ebd6646d9d4d7a96ee9af52bbdb8de",
       "version_major": 2,
       "version_minor": 0
      },
      "text/plain": [
       "Uploading: 0.000%|          | 0/1419 elapsed<00:00 remaining<?"
      ]
     },
     "metadata": {},
     "output_type": "display_data"
    },
    {
     "data": {
      "text/plain": [
       "'Resources/weather_forecast/forecast.csv'"
      ]
     },
     "execution_count": 11,
     "metadata": {},
     "output_type": "execute_result"
    }
   ],
   "source": [
    "# upload forecast to Hopsworks cluster for Hugging Face\n",
    "dataset_api = project.get_dataset_api()\n",
    "dataset_api.upload(\"../resources/forecast.csv\", \"Resources/weather_forecast\", overwrite=True)"
   ]
  }
 ],
 "metadata": {
  "kernelspec": {
   "display_name": "Python 3 (ipykernel)",
   "language": "python",
   "name": "python3"
  },
  "language_info": {
   "codemirror_mode": {
    "name": "ipython",
    "version": 3
   },
   "file_extension": ".py",
   "mimetype": "text/x-python",
   "name": "python",
   "nbconvert_exporter": "python",
   "pygments_lexer": "ipython3",
   "version": "3.11.5"
  }
 },
 "nbformat": 4,
 "nbformat_minor": 5
}
