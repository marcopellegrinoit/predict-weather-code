{
 "cells": [
  {
   "cell_type": "markdown",
   "id": "b894b807-0d9d-4046-b6fb-6a14d273ad01",
   "metadata": {},
   "source": [
    "# Batch Daily Inference Pipeline\n",
    "* Retrieve best model from Hopsworks\n",
    "* Scrape weather forecasts for next 14 days\n",
    "* Predict weather code and store predictions in Hopsworks"
   ]
  },
  {
   "cell_type": "code",
   "execution_count": 1,
   "id": "1d33e201-0014-4701-82c8-0e68f18ffb92",
   "metadata": {},
   "outputs": [],
   "source": [
    "import hopsworks\n",
    "import joblib\n",
    "from weather_utils import *\n",
    "from config import *"
   ]
  },
  {
   "cell_type": "markdown",
   "id": "ecf7f66f-e51f-400b-bc69-77567cc18626",
   "metadata": {},
   "source": [
    "# 1) Retrieve best model from Hopsworks"
   ]
  },
  {
   "cell_type": "code",
   "execution_count": 2,
   "id": "80d9b135-fe95-4e77-a61f-c10880b2709f",
   "metadata": {},
   "outputs": [
    {
     "name": "stdout",
     "output_type": "stream",
     "text": [
      "Connected. Call `.close()` to terminate connection gracefully.\n",
      "\n",
      "Logged in to project, explore it here https://c.app.hopsworks.ai:443/p/178324\n",
      "Connected. Call `.close()` to terminate connection gracefully.\n",
      "Connected. Call `.close()` to terminate connection gracefully.\n",
      "Downloading file ... Model: /var/folders/kf/md7wd1294hv6n5qvkc2149qr0000gn/T/c74953d0-3209-497f-9edd-d0d2120e63ff/weather_code_xgboost_model/1\n"
     ]
    }
   ],
   "source": [
    "# Connect to Hopsworks\n",
    "project = hopsworks.login()\n",
    "\n",
    "# Retrieve Feature Store\n",
    "fs = project.get_feature_store()\n",
    "\n",
    "# Get Model Registry\n",
    "mr = project.get_model_registry()\n",
    "\n",
    "# Select best model based on evaluation metric\n",
    "weather_code_model = mr.get_best_model(MODEL_NAME,\n",
    "                          MODEL_METRIC,\n",
    "                          OPTIMIZE_DIRECTION)\n",
    "\n",
    "# Download model path\n",
    "model_dir = weather_code_model.download()\n",
    "\n",
    "# Download model\n",
    "model = joblib.load(model_dir + '/'+ MODEL_NAME + '.pkl')\n",
    "\n",
    "print(\"Model:\", model_dir)"
   ]
  },
  {
   "cell_type": "markdown",
   "id": "01121683-db52-4a48-99c8-6c45b3d59cfb",
   "metadata": {},
   "source": [
    "# 2) Scrape weather forecasts for next 14 days"
   ]
  },
  {
   "cell_type": "code",
   "execution_count": 3,
   "id": "de6dc55e-0dcc-410a-a1a8-4ff11bc8a264",
   "metadata": {},
   "outputs": [
    {
     "name": "stdout",
     "output_type": "stream",
     "text": [
      "          date  temperature_min  precipitation_sum  wind_gusts_max\n",
      "0   2023-11-13        10.287001           3.300000       59.759998\n",
      "1   2023-11-14         9.037001           1.400000       41.399998\n",
      "2   2023-11-15         5.661000           0.100000       28.440001\n",
      "3   2023-11-16         4.261000           0.000000       19.440001\n",
      "4   2023-11-17         5.861000           6.899999       42.119999\n",
      "5   2023-11-18         9.861000           6.399999       54.000000\n",
      "6   2023-11-19         6.335000           6.499999       43.919998\n",
      "7   2023-11-20         3.135000           0.300000       38.880001\n",
      "8   2023-11-21         6.161000           0.300000       36.000000\n",
      "9   2023-11-22         7.111000           0.900000       45.360001\n",
      "10  2023-11-23         4.111000           0.000000       48.599998\n",
      "11  2023-11-24         2.861000           3.000000       46.439999\n",
      "12  2023-11-25         1.061000           0.000000       16.919998\n",
      "13  2023-11-26         2.511000           0.900000       39.239998\n"
     ]
    }
   ],
   "source": [
    "# Define query parameters\n",
    "params = {\n",
    "    \"latitude\": LATITUDE,\n",
    "    \"longitude\": LONGITUDE,\n",
    "    \"daily\": [\"temperature_2m_min\", \"precipitation_sum\", \"wind_gusts_10m_max\"],\n",
    "    \"timezone\": TIMEZONE,\n",
    "    \"past_days\": 0,\n",
    "    \"forecast_days\": 14\n",
    "}\n",
    "\n",
    "# Setup connection with Open-Meteo\n",
    "openmeteo = get_openmeteo_connection()\n",
    "\n",
    "# Execute the query\n",
    "responses = openmeteo.weather_api(BASELINE_URL_OPEN_METEO, params=params)\n",
    "\n",
    "# Extract the location because the response can be done for multiple cities as well\n",
    "response = responses[0]\n",
    "\n",
    "# Process yesterday's data into a Pandas dataframe\n",
    "df_forecasts = process_forecast_request(response)\n",
    "\n",
    "print(df_forecasts)"
   ]
  },
  {
   "cell_type": "code",
   "execution_count": null,
   "id": "6e99abe3-8123-418e-93ef-3967bf6956dc",
   "metadata": {},
   "outputs": [],
   "source": []
  }
 ],
 "metadata": {
  "kernelspec": {
   "display_name": "Python 3 (ipykernel)",
   "language": "python",
   "name": "python3"
  },
  "language_info": {
   "codemirror_mode": {
    "name": "ipython",
    "version": 3
   },
   "file_extension": ".py",
   "mimetype": "text/x-python",
   "name": "python",
   "nbconvert_exporter": "python",
   "pygments_lexer": "ipython3",
   "version": "3.11.5"
  }
 },
 "nbformat": 4,
 "nbformat_minor": 5
}
