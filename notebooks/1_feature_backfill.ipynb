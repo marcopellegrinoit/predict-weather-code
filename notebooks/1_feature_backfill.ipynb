{
 "cells": [
  {
   "cell_type": "markdown",
   "id": "33976049",
   "metadata": {},
   "source": [
    "# Backfill Pipeline\n",
    "* Fetch historical data from Open-Meteo\n",
    "* Connect to the Hopsworks feature store\n",
    "* Create feature groups and insert them to the feature store"
   ]
  },
  {
   "cell_type": "code",
   "execution_count": null,
   "id": "6c02cafe",
   "metadata": {},
   "outputs": [],
   "source": [
    "import pandas as pd\n",
    "import hopsworks\n",
    "import openmeteo_requests\n",
    "import requests_cache\n",
    "from retry_requests import retry\n",
    "import matplotlib.pyplot as plt\n",
    "from weather_utils import *\n",
    "\n",
    "import sys\n",
    "sys.path.append('..')  # Add the parent directory (project root) to the Python path\n",
    "from config import *\n",
    "\n",
    "# Disable annoying warnings\n",
    "import warnings\n",
    "warnings.filterwarnings(\"ignore\")"
   ]
  },
  {
   "cell_type": "markdown",
   "id": "07659d49",
   "metadata": {},
   "source": [
    "# Query Weather Data"
   ]
  },
  {
   "cell_type": "code",
   "execution_count": null,
   "id": "6d00f07a",
   "metadata": {},
   "outputs": [],
   "source": [
    "# Create query parameters.\n",
    "# Can query historical data up to 3 months\n",
    "params = {\n",
    "    \"latitude\": LATITUDE,\n",
    "    \"longitude\": LONGITUDE,\n",
    "    \"daily\": [\"weather_code\", \"temperature_2m_min\", \"precipitation_sum\", \"wind_gusts_10m_max\"],\n",
    "    \"timezone\": TIMEZONE,\n",
    "    \"start_date\": \"2023-12-10\",\n",
    "    \"end_date\": \"2024-01-18\" # last day is not included\n",
    "}\n",
    "\n",
    "# Setup connection with Open-Meteo\n",
    "openmeteo = get_openmeteo_connection()\n",
    "\n",
    "# Execute the query\n",
    "responses = openmeteo.weather_api(BASELINE_URL_OPEN_METEO, params=params)\n",
    "\n",
    "# Extract the location because the response can be done for multiple cities as well\n",
    "response = responses[0]\n",
    "\n",
    "# Convert request to dataframe¶\n",
    "df_hist_data = process_weather_request(response)"
   ]
  },
  {
   "cell_type": "markdown",
   "id": "7b52022a",
   "metadata": {},
   "source": [
    "# Feature Engineering"
   ]
  },
  {
   "cell_type": "code",
   "execution_count": null,
   "id": "4959d022",
   "metadata": {},
   "outputs": [],
   "source": [
    "# Process daily data into a Pandas dataframe\n",
    "df_hist_data = process_weather_request(response)"
   ]
  },
  {
   "cell_type": "markdown",
   "id": "69ab9d4f",
   "metadata": {},
   "source": [
    "### Remove missing values"
   ]
  },
  {
   "cell_type": "code",
   "execution_count": null,
   "id": "ffce7e61",
   "metadata": {},
   "outputs": [],
   "source": [
    "# Check if there is any missing data\n",
    "df_hist_data.info()"
   ]
  },
  {
   "cell_type": "code",
   "execution_count": null,
   "id": "77b8d6be",
   "metadata": {},
   "outputs": [],
   "source": [
    "# Remove missing days not accessible through the query\n",
    "df_hist_data = df_hist_data.dropna()\n",
    "\n",
    "# Convert the WMO weather codes column to integers\n",
    "df_hist_data['weather_code_wmo'] = df_hist_data['weather_code_wmo'].astype(int)\n",
    "\n",
    "# Check again if there is any missing data\n",
    "df_hist_data.info()"
   ]
  },
  {
   "cell_type": "markdown",
   "id": "48776991",
   "metadata": {},
   "source": [
    "### Format values"
   ]
  },
  {
   "cell_type": "code",
   "execution_count": null,
   "id": "ace6e257",
   "metadata": {},
   "outputs": [],
   "source": [
    "# Add a new column with the month as an integer\n",
    "df_hist_data['month'] = pd.to_datetime(df_hist_data['date']).dt.month"
   ]
  },
  {
   "cell_type": "code",
   "execution_count": null,
   "id": "f02b0c74",
   "metadata": {},
   "outputs": [],
   "source": [
    "# Group WMO codes into labels and new group code label\n",
    "df_hist_data = group_wmo_weather_codes(df_hist_data)"
   ]
  },
  {
   "cell_type": "code",
   "execution_count": null,
   "id": "94da7112-6c25-4fa9-98b8-d23aa03cc687",
   "metadata": {},
   "outputs": [],
   "source": [
    "# Add weather code descriptions\n",
    "df_hist_data = add_weather_code_labels(df_hist_data)"
   ]
  },
  {
   "cell_type": "markdown",
   "id": "bbcb64be",
   "metadata": {},
   "source": [
    "# Visualize"
   ]
  },
  {
   "cell_type": "markdown",
   "id": "4b46554b-5611-4b30-8299-e6110ba09aa5",
   "metadata": {},
   "source": [
    "### Manual inspection"
   ]
  },
  {
   "cell_type": "code",
   "execution_count": null,
   "id": "49cc89c8-74de-4ed0-8cfa-3ae922e6ba46",
   "metadata": {},
   "outputs": [],
   "source": [
    "# Newest values\n",
    "print('Newest values:')\n",
    "display(df_hist_data.tail())\n",
    "\n",
    "# Oldest values\n",
    "print('Oldest values:')\n",
    "display(df_hist_data.head())"
   ]
  },
  {
   "cell_type": "markdown",
   "id": "ec150c58-ac57-44e5-a7ab-7a1efb1b05cb",
   "metadata": {},
   "source": [
    "### Plot trends"
   ]
  },
  {
   "cell_type": "code",
   "execution_count": null,
   "id": "6b1f2db3",
   "metadata": {},
   "outputs": [],
   "source": [
    "# Create a figure with four vertically aligned subplots\n",
    "fig, (ax1, ax2, ax3, ax4) = plt.subplots(4, 1, figsize=(10, 10), sharex=True)\n",
    "\n",
    "# First subplot: Weather Code\n",
    "ax1.plot(df_hist_data['date'], df_hist_data['weather_code'], marker='o', linestyle='-', markersize=2)\n",
    "ax1.set_ylabel('Weather')\n",
    "ax1.set_title('Weather Codes Trend')\n",
    "\n",
    "# Customize y-axis labels with weather code labels instead of numbers\n",
    "ax1.set_yticks(df_hist_data['weather_code'])\n",
    "ax1.set_yticklabels(df_hist_data['weather_code_desc'])\n",
    "\n",
    "# Second subplot: Min Temperature\n",
    "ax2.plot(df_hist_data['date'], df_hist_data['temperature_min'], marker='o', linestyle='-', markersize=2)\n",
    "ax2.set_ylabel('Min Temperature (°C)')\n",
    "ax2.set_title('Min Temperature Trend')\n",
    "\n",
    "# Third subplot: Precipitations Sum\n",
    "ax3.plot(df_hist_data['date'], df_hist_data['precipitation_sum'], marker='o', linestyle='-', markersize=2)\n",
    "ax3.set_ylabel('Precipitations Sum (mm)')\n",
    "ax3.set_title('Precipitations Trend')\n",
    "\n",
    "# Fourth subplot: Max Wind Gusts\n",
    "ax4.plot(df_hist_data['date'], df_hist_data['wind_gusts_max'], marker='o', linestyle='-', markersize=2)\n",
    "ax4.set_xlabel('Date')\n",
    "ax4.set_ylabel('Max Wind Gusts (km/h)')\n",
    "ax4.set_title('Max Wind Gusts Trend')\n",
    "\n",
    "# Repeat x-label in all subplots\n",
    "ax1.tick_params(axis='x', rotation=45)\n",
    "ax2.tick_params(axis='x', rotation=45)\n",
    "ax3.tick_params(axis='x', rotation=45)\n",
    "ax4.tick_params(axis='x', rotation=45)\n",
    "\n",
    "# Display vertical lines aligned with x-ticks dates in all subplots\n",
    "for tick in ax1.get_xticks():\n",
    "    ax1.axvline(tick, color='gray', linestyle='--', alpha=0.5)\n",
    "    ax2.axvline(tick, color='gray', linestyle='--', alpha=0.5)\n",
    "    ax3.axvline(tick, color='gray', linestyle='--', alpha=0.5)\n",
    "    ax4.axvline(tick, color='gray', linestyle='--', alpha=0.5)\n",
    "\n",
    "# Display the plot\n",
    "plt.tight_layout()  # Ensures proper spacing between subplots\n",
    "plt.show()"
   ]
  },
  {
   "cell_type": "markdown",
   "id": "01840ae7",
   "metadata": {},
   "source": [
    "# Upload to Hopsworks Feature Store"
   ]
  },
  {
   "cell_type": "code",
   "execution_count": null,
   "id": "dbc2bd9d",
   "metadata": {},
   "outputs": [],
   "source": [
    "# Connect to Hopsworks\n",
    "project = hopsworks.login()\n",
    "\n",
    "# Retrieve Feature Store\n",
    "fs = project.get_feature_store() "
   ]
  },
  {
   "cell_type": "code",
   "execution_count": null,
   "id": "37ac0373",
   "metadata": {},
   "outputs": [],
   "source": [
    "# Create Feature Group\n",
    "historical_weather_fg = fs.get_or_create_feature_group(\n",
    "    name=FG_HISTORY_NAME,\n",
    "    description=FG_HISTORY_DESC,\n",
    "    version=FG_HISTORY_V,\n",
    "    primary_key=FG_HISTORY_PK,\n",
    "    event_time=[\"date\"],\n",
    "    statistics_config={\"enabled\": True,\n",
    "                       \"histograms\": True,\n",
    "                       \"correlations\": True}\n",
    ")"
   ]
  },
  {
   "cell_type": "code",
   "execution_count": null,
   "id": "0cd471e1-1355-4363-be3e-1476e34abe96",
   "metadata": {},
   "outputs": [],
   "source": [
    "# Upload dataframe into Feature Store\n",
    "historical_weather_fg.insert(df_hist_data,\n",
    "                             write_options={\"wait_for_job\": False})"
   ]
  }
 ],
 "metadata": {
  "kernelspec": {
   "display_name": "Python (hopsenv)",
   "language": "python",
   "name": "hopsenv"
  },
  "language_info": {
   "codemirror_mode": {
    "name": "ipython",
    "version": 3
   },
   "file_extension": ".py",
   "mimetype": "text/x-python",
   "name": "python",
   "nbconvert_exporter": "python",
   "pygments_lexer": "ipython3",
   "version": "3.10.13"
  }
 },
 "nbformat": 4,
 "nbformat_minor": 5
}
