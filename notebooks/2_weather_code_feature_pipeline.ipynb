{
 "cells": [
  {
   "cell_type": "markdown",
   "id": "bbc976de",
   "metadata": {},
   "source": [
    "# Feature pipeline\n",
    "* Query new weather data\n",
    "* Feature Group Insertion"
   ]
  },
  {
   "cell_type": "code",
   "execution_count": 1,
   "id": "113ff829",
   "metadata": {},
   "outputs": [],
   "source": [
    "import pandas as pd\n",
    "import hopsworks\n",
    "import matplotlib.pyplot as plt\n",
    "from weather_utils import *\n",
    "\n",
    "import sys\n",
    "sys.path.append('..')  # Add the parent directory (project root) to the Python path\n",
    "from config import *\n",
    "\n",
    "# Disable annoying warnings\n",
    "import warnings\n",
    "warnings.filterwarnings(\"ignore\")"
   ]
  },
  {
   "cell_type": "markdown",
   "id": "9dcf7767",
   "metadata": {},
   "source": [
    "# 1) Query Weather Data"
   ]
  },
  {
   "cell_type": "code",
   "execution_count": 5,
   "id": "18086f40",
   "metadata": {},
   "outputs": [],
   "source": [
    "# Setup connection with Open-Meteo\n",
    "openmeteo = get_openmeteo_connection()\n",
    "\n",
    "# Define query parameters\n",
    "params = {\n",
    "    \"latitude\": LATITUDE,\n",
    "    \"longitude\": LONGITUDE,\n",
    "    \"daily\": [\"weather_code\", \"temperature_2m_min\", \"precipitation_sum\", \"wind_gusts_10m_max\"],\n",
    "    \"timezone\": TIMEZONE,\n",
    "    \"past_days\": 1,\n",
    "    \"forecast_days\": 0\n",
    "}\n",
    "\n",
    "# Execute the query\n",
    "responses = openmeteo.weather_api(BASELINE_URL_OPEN_METEO, params=params)\n",
    "\n",
    "# Extract the location because the response can be done for multiple cities as well\n",
    "response = responses[0]"
   ]
  },
  {
   "cell_type": "markdown",
   "id": "67d5ef47",
   "metadata": {},
   "source": [
    "# 3) Feature Engineering"
   ]
  },
  {
   "cell_type": "markdown",
   "id": "61565313",
   "metadata": {},
   "source": [
    "### 3a) Convert request to dataframe"
   ]
  },
  {
   "cell_type": "code",
   "execution_count": 6,
   "id": "9f62eece",
   "metadata": {},
   "outputs": [],
   "source": [
    "# Process yesterday's data into a Pandas dataframe\n",
    "df_weather_yesterday = process_weather_request(response)"
   ]
  },
  {
   "cell_type": "code",
   "execution_count": 7,
   "id": "00bf5548",
   "metadata": {},
   "outputs": [
    {
     "data": {
      "text/html": [
       "<div>\n",
       "<style scoped>\n",
       "    .dataframe tbody tr th:only-of-type {\n",
       "        vertical-align: middle;\n",
       "    }\n",
       "\n",
       "    .dataframe tbody tr th {\n",
       "        vertical-align: top;\n",
       "    }\n",
       "\n",
       "    .dataframe thead th {\n",
       "        text-align: right;\n",
       "    }\n",
       "</style>\n",
       "<table border=\"1\" class=\"dataframe\">\n",
       "  <thead>\n",
       "    <tr style=\"text-align: right;\">\n",
       "      <th></th>\n",
       "      <th>date</th>\n",
       "      <th>weather_code_wmo</th>\n",
       "      <th>temperature_min</th>\n",
       "      <th>precipitation_sum</th>\n",
       "      <th>wind_gusts_max</th>\n",
       "    </tr>\n",
       "  </thead>\n",
       "  <tbody>\n",
       "    <tr>\n",
       "      <th>0</th>\n",
       "      <td>2023-11-12</td>\n",
       "      <td>3.0</td>\n",
       "      <td>0.6675</td>\n",
       "      <td>0.0</td>\n",
       "      <td>31.319998</td>\n",
       "    </tr>\n",
       "    <tr>\n",
       "      <th>1</th>\n",
       "      <td>2023-11-13</td>\n",
       "      <td>51.0</td>\n",
       "      <td>1.4175</td>\n",
       "      <td>0.6</td>\n",
       "      <td>27.000000</td>\n",
       "    </tr>\n",
       "  </tbody>\n",
       "</table>\n",
       "</div>"
      ],
      "text/plain": [
       "         date  weather_code_wmo  temperature_min  precipitation_sum  \\\n",
       "0  2023-11-12               3.0           0.6675                0.0   \n",
       "1  2023-11-13              51.0           1.4175                0.6   \n",
       "\n",
       "   wind_gusts_max  \n",
       "0       31.319998  \n",
       "1       27.000000  "
      ]
     },
     "execution_count": 7,
     "metadata": {},
     "output_type": "execute_result"
    }
   ],
   "source": [
    "df_weather_yesterday"
   ]
  },
  {
   "cell_type": "markdown",
   "id": "5a41355b",
   "metadata": {},
   "source": [
    "### 3b) Inspect data"
   ]
  },
  {
   "cell_type": "code",
   "execution_count": 8,
   "id": "98a8d4be",
   "metadata": {},
   "outputs": [
    {
     "name": "stdout",
     "output_type": "stream",
     "text": [
      "<class 'pandas.core.frame.DataFrame'>\n",
      "RangeIndex: 1 entries, 0 to 0\n",
      "Data columns (total 5 columns):\n",
      " #   Column             Non-Null Count  Dtype  \n",
      "---  ------             --------------  -----  \n",
      " 0   date               1 non-null      object \n",
      " 1   weather_code_wmo   1 non-null      int64  \n",
      " 2   temperature_min    1 non-null      float32\n",
      " 3   precipitation_sum  1 non-null      float32\n",
      " 4   wind_gusts_max     1 non-null      float32\n",
      "dtypes: float32(3), int64(1), object(1)\n",
      "memory usage: 160.0+ bytes\n"
     ]
    }
   ],
   "source": [
    "# Convert the WMO weather codes column to integers\n",
    "df_weather_yesterday['weather_code_wmo'] = df_weather_yesterday['weather_code_wmo'].astype(int)\n",
    "\n",
    "# Check again if there is any missing data\n",
    "df_weather_yesterday.info()"
   ]
  },
  {
   "cell_type": "markdown",
   "id": "88139f2c",
   "metadata": {},
   "source": [
    "### 3c) Format values"
   ]
  },
  {
   "cell_type": "code",
   "execution_count": 9,
   "id": "dfa6ddf7",
   "metadata": {},
   "outputs": [],
   "source": [
    "# Add a new column with the month as an integer\n",
    "df_weather_yesterday['month'] = pd.to_datetime(df_weather_yesterday['date']).dt.month"
   ]
  },
  {
   "cell_type": "code",
   "execution_count": 10,
   "id": "6a73047e",
   "metadata": {},
   "outputs": [],
   "source": [
    "# Group WMO codes into labels and new group code label\n",
    "df_weather_yesterday = group_wmo_weather_codes(df_weather_yesterday)"
   ]
  },
  {
   "cell_type": "code",
   "execution_count": 11,
   "id": "15fd31c1",
   "metadata": {},
   "outputs": [
    {
     "data": {
      "text/html": [
       "<div>\n",
       "<style scoped>\n",
       "    .dataframe tbody tr th:only-of-type {\n",
       "        vertical-align: middle;\n",
       "    }\n",
       "\n",
       "    .dataframe tbody tr th {\n",
       "        vertical-align: top;\n",
       "    }\n",
       "\n",
       "    .dataframe thead th {\n",
       "        text-align: right;\n",
       "    }\n",
       "</style>\n",
       "<table border=\"1\" class=\"dataframe\">\n",
       "  <thead>\n",
       "    <tr style=\"text-align: right;\">\n",
       "      <th></th>\n",
       "      <th>date</th>\n",
       "      <th>weather_code_wmo</th>\n",
       "      <th>temperature_min</th>\n",
       "      <th>precipitation_sum</th>\n",
       "      <th>wind_gusts_max</th>\n",
       "      <th>month</th>\n",
       "      <th>weather_code_label</th>\n",
       "      <th>weather_code</th>\n",
       "    </tr>\n",
       "  </thead>\n",
       "  <tbody>\n",
       "    <tr>\n",
       "      <th>0</th>\n",
       "      <td>2023-11-05</td>\n",
       "      <td>80</td>\n",
       "      <td>8.487</td>\n",
       "      <td>1.8</td>\n",
       "      <td>60.839996</td>\n",
       "      <td>11</td>\n",
       "      <td>Rain showers: Slight, moderate, and violent</td>\n",
       "      <td>10</td>\n",
       "    </tr>\n",
       "  </tbody>\n",
       "</table>\n",
       "</div>"
      ],
      "text/plain": [
       "         date  weather_code_wmo  temperature_min  precipitation_sum  \\\n",
       "0  2023-11-05                80            8.487                1.8   \n",
       "\n",
       "   wind_gusts_max  month                           weather_code_label  \\\n",
       "0       60.839996     11  Rain showers: Slight, moderate, and violent   \n",
       "\n",
       "   weather_code  \n",
       "0            10  "
      ]
     },
     "execution_count": 11,
     "metadata": {},
     "output_type": "execute_result"
    }
   ],
   "source": [
    "print(df_weather_yesterday)"
   ]
  },
  {
   "cell_type": "markdown",
   "id": "70e97363",
   "metadata": {},
   "source": [
    "# 4) Hopsworks Feature Store"
   ]
  },
  {
   "cell_type": "code",
   "execution_count": 12,
   "id": "e919e47e",
   "metadata": {},
   "outputs": [
    {
     "name": "stdout",
     "output_type": "stream",
     "text": [
      "Connected. Call `.close()` to terminate connection gracefully.\n",
      "\n",
      "Logged in to project, explore it here https://c.app.hopsworks.ai:443/p/178324\n",
      "Connected. Call `.close()` to terminate connection gracefully.\n"
     ]
    }
   ],
   "source": [
    "# Connect to HopsWorks\n",
    "project = hopsworks.login()\n",
    "\n",
    "# Retrieve feature store\n",
    "fs = project.get_feature_store() "
   ]
  },
  {
   "cell_type": "code",
   "execution_count": null,
   "id": "224bd2cf",
   "metadata": {},
   "outputs": [],
   "source": [
    "# CHECK THAT NEW DATA IS NOT ALREADY INSERTED"
   ]
  },
  {
   "cell_type": "code",
   "execution_count": 13,
   "id": "d3a5f4b7",
   "metadata": {},
   "outputs": [
    {
     "name": "stderr",
     "output_type": "stream",
     "text": [
      "DeprecationWarning: The `ipykernel.comm.Comm` class has been deprecated. Please use the `comm` module instead.For creating comms, use the function `from comm import create_comm`.\n"
     ]
    },
    {
     "data": {
      "application/vnd.jupyter.widget-view+json": {
       "model_id": "0babae001d80426da5f1ecfae7d9a365",
       "version_major": 2,
       "version_minor": 0
      },
      "text/plain": [
       "Uploading Dataframe: 0.00% |          | Rows 0/1 | Elapsed Time: 00:00 | Remaining Time: ?"
      ]
     },
     "metadata": {},
     "output_type": "display_data"
    },
    {
     "name": "stdout",
     "output_type": "stream",
     "text": [
      "Launching job: weather_fg_1_offline_fg_materialization\n",
      "Job started successfully, you can follow the progress at \n",
      "https://c.app.hopsworks.ai/p/178324/jobs/named/weather_fg_1_offline_fg_materialization/executions\n"
     ]
    },
    {
     "data": {
      "text/plain": [
       "(<hsfs.core.job.Job at 0x12c6b7550>, None)"
      ]
     },
     "execution_count": 13,
     "metadata": {},
     "output_type": "execute_result"
    }
   ],
   "source": [
    "# Retrieve feature group\n",
    "weather_fg = fs.get_or_create_feature_group(\n",
    "    name = FEATURE_GROUP_HISTORY,\n",
    "    version = 1\n",
    ")\n",
    "\n",
    "# Insert data in the feature group\n",
    "weather_fg.insert(df_weather_yesterday)"
   ]
  }
 ],
 "metadata": {
  "kernelspec": {
   "display_name": "Python 3 (ipykernel)",
   "language": "python",
   "name": "python3"
  },
  "language_info": {
   "codemirror_mode": {
    "name": "ipython",
    "version": 3
   },
   "file_extension": ".py",
   "mimetype": "text/x-python",
   "name": "python",
   "nbconvert_exporter": "python",
   "pygments_lexer": "ipython3",
   "version": "3.11.5"
  }
 },
 "nbformat": 4,
 "nbformat_minor": 5
}
